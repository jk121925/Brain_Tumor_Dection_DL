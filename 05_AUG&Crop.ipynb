{
 "cells": [
  {
   "cell_type": "code",
   "execution_count": 7,
   "metadata": {},
   "outputs": [],
   "source": [
    "import os\n",
    "import cv2\n",
    "import numpy as np\n",
    "import matplotlib.pyplot as plt\n",
    "import imgaug.augmenters as iaa\n",
    "import glob"
   ]
  },
  {
   "cell_type": "code",
   "execution_count": 8,
   "metadata": {},
   "outputs": [],
   "source": [
    "def croping(origin_img_path,save_img_path,new_img_name):\n",
    "    ##img parameter\n",
    "    lower=np.array([30,30,30])\n",
    "    higher=np.array([250,250,250])\n",
    "    ## take img\n",
    "    img_origin = cv2.imread(origin_img_path)\n",
    "    ## img pre-process\n",
    "    out_img=cv2.cvtColor(img_origin,cv2.COLOR_BGR2RGB)\n",
    "    mask=cv2.inRange(out_img,lower,higher)\n",
    "    cont,_=cv2.findContours(mask,cv2.RETR_EXTERNAL,cv2.CHAIN_APPROX_NONE)\n",
    "    cont_img = cv2.drawContours(out_img,cont,-1,255,2)\n",
    "    c = max(cont,key = cv2.contourArea)\n",
    "    ## make rect\n",
    "    x,y,w,h = cv2.boundingRect(c)\n",
    "    cv2.rectangle(out_img,(x,y),(x+w,y+h),(0,255,0),3)\n",
    "    ## cropping\n",
    "    crop_img = img_origin[y: y+h, x : x+w]\n",
    "    cv2.imwrite(save_img_path,crop_img)\n",
    "    return None"
   ]
  },
  {
   "cell_type": "code",
   "execution_count": 13,
   "metadata": {},
   "outputs": [],
   "source": [
    "def AUG(img):\n",
    "    augmentation = iaa.Sequential([\n",
    "    ###### Rotating Function ######\n",
    "    iaa.Rot90((1,3), keep_size = False),\n",
    "    ###### Flip ######\n",
    "    iaa.Fliplr(0.5),\n",
    "    iaa.Flipud(0.5),\n",
    "    ###### GaussianBlur ######\n",
    "    iaa.GaussianBlur((0.0,3.0))\n",
    "    ])\n",
    "    augmented_images = augmentation(image = img)\n",
    "    return augmented_images"
   ]
  },
  {
   "cell_type": "code",
   "execution_count": 14,
   "metadata": {},
   "outputs": [],
   "source": [
    "\n",
    "##Crop\n",
    "\n",
    "root_path = \"./archive/Testing\"\n",
    "save_root_path = \"./archive/Training_Crop_Aug\"\n",
    "class_lists = os.listdir(root_path)\n",
    "#print(dir_lists)\n",
    "for class_list in class_lists:\n",
    "    ###### class dir extract\n",
    "    img_dir_path = root_path + '/' + class_list\n",
    "    #print(img_dir_path)\n",
    "    ###### img dir extrac ->./archive/Testing/pituitary_tumor\n",
    "    img_list = os.listdir(img_dir_path)\n",
    "    #print(img_list) -> image(1).jpg\n",
    "    ###### img preprocess\n",
    "    for single_img in img_list:\n",
    "        origin_img_path = img_dir_path + '/' + single_img\n",
    "        #print(origin_img_path)\n",
    "        new_img_name = 'pre_Porocess_' + single_img\n",
    "        #print(new_img_name)\n",
    "        save_img_path = save_root_path + '/' + class_list + '/'+ new_img_name\n",
    "        #print(save_img_path)\n",
    "        croping(origin_img_path,save_img_path,new_img_name)"
   ]
  },
  {
   "cell_type": "code",
   "execution_count": 15,
   "metadata": {},
   "outputs": [],
   "source": [
    "root_path = \"./archive/Training_Crop_Aug\"\n",
    "save_root_path = \"./archive/Training_Crop_Aug\"\n",
    "class_lists = os.listdir(root_path)\n",
    "#print(dir_lists)\n",
    "for class_list in class_lists:\n",
    "    ###### class dir extract\n",
    "    img_dir_path = root_path + '/' + class_list\n",
    "    #print(img_dir_path)\n",
    "    ###### img dir extrac ->./archive/Testing/pituitary_tumor\n",
    "    img_list = os.listdir(img_dir_path)\n",
    "    #print(img_list) -> image(1).jpg\n",
    "    ###### img preprocess\n",
    "    for single_img in img_list:\n",
    "        origin_img_path = img_dir_path + '/' + single_img\n",
    "        #print(origin_img_path)\n",
    "        new_img_name = 'AUG_' + single_img\n",
    "        save_img_path = save_root_path + '/' + class_list + '/'+ new_img_name\n",
    "        #print(save_img_path)\n",
    "        read_img = cv2.imread(origin_img_path)\n",
    "        ###### Augmentation\n",
    "        augmented_image = AUG(read_img)\n",
    "        cv2.imwrite(save_img_path,augmented_image)\n",
    "      "
   ]
  },
  {
   "cell_type": "code",
   "execution_count": null,
   "metadata": {},
   "outputs": [],
   "source": []
  }
 ],
 "metadata": {
  "kernelspec": {
   "display_name": "Python 3",
   "language": "python",
   "name": "python3"
  },
  "language_info": {
   "codemirror_mode": {
    "name": "ipython",
    "version": 3
   },
   "file_extension": ".py",
   "mimetype": "text/x-python",
   "name": "python",
   "nbconvert_exporter": "python",
   "pygments_lexer": "ipython3",
   "version": "3.7.1"
  }
 },
 "nbformat": 4,
 "nbformat_minor": 2
}
