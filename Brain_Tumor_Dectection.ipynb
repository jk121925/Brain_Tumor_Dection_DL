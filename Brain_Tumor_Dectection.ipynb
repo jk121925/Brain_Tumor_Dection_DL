{
 "cells": [
  {
   "cell_type": "code",
   "execution_count": 1,
   "metadata": {},
   "outputs": [],
   "source": [
    "from PIL import Image \n",
    "import numpy as np\n",
    "import cv2\n",
    "# pip install opencv-python on cmd\n",
    "from matplotlib import pyplot as plt"
   ]
  },
  {
   "cell_type": "code",
   "execution_count": null,
   "metadata": {},
   "outputs": [],
   "source": []
  },
  {
   "cell_type": "code",
   "execution_count": 2,
   "metadata": {},
   "outputs": [],
   "source": [
    "# 끝에 jpg를 붙여라 제발 ㅅㅂ\n",
    "#img = Image.open('C:\\\\Users\\\\jk121\\\\Desktop\\\\temp\\\\archive\\\\Testing\\\\glioma_tumor\\\\image(1).jpg')"
   ]
  },
  {
   "cell_type": "code",
   "execution_count": 3,
   "metadata": {},
   "outputs": [],
   "source": [
    "#print(type(img))\n",
    "#img.show()"
   ]
  },
  {
   "cell_type": "code",
   "execution_count": 5,
   "metadata": {},
   "outputs": [
    {
     "data": {
      "text/plain": [
       "\"\\nx,y,w,h = cv2.boundingRect(contour2[0])\\ncv2.rectangle(dst, (x,y), (x+w, y+h), (100,255,100), 1)\\ncv2.imshow('Bound Fit shapes',dst)\\ncv2.waitKey(0)\\ncv2.destroyAllWindows()\\n\""
      ]
     },
     "execution_count": 5,
     "metadata": {},
     "output_type": "execute_result"
    }
   ],
   "source": [
    "cv_tempIMG1 = cv2.imread('C:\\\\Users\\\\jk121\\\\Desktop\\\\temp\\\\archive\\\\Testing\\\\glioma_tumor\\\\temp1.jpg')\n",
    "dst = cv_tempIMG1.copy()\n",
    "#cv2.imshow('Bound Fit shapes_0',dst)\n",
    "## 아래 두 모듈이 있어야 imshow가 작동\n",
    "## cv2.waitKey =>키보드 입력이 있을 떄까지 대기\n",
    "## cv2.destroyAllWindows 나타난 윈도우 종료\n",
    "\n",
    "#resize_tempIMG1 = cv2.resize(cv_tempIMG1,(256,256))\n",
    "## cv2.findContours\n",
    "gray = cv2.cvtColor(dst,cv2.COLOR_RGB2GRAY)\n",
    "## 그레이 스케일로 변환\n",
    "ret, binary = cv2.threshold(gray, 127, 255, 0)\n",
    "##cv2.imshow('Bound Fit shapes_01',binary)\n",
    "## 바이너리 이미지로 만들어서 검은 배경에 흰색 전경으로 반전\n",
    "#dst, contour, hierarchy =cv2.findCountours(binary, cv2.RETR_EXTERNAL, cv2.CHAIN_APPROX_NONE)\n",
    "\n",
    "contr, hierarchy =cv2.findContours(binary, cv2.RETR_TREE, cv2.CHAIN_APPROX_SIMPLE)\n",
    "\n",
    "\n",
    "cv2.drawContours(dst, contr, -1, (0,255,0), 1)\n",
    "\n",
    "cv2.imshow(\"result\", dst)\n",
    "\n",
    "'''\n",
    "cnt = contr[0]\n",
    "\n",
    "x,y,w,h = cv2.boundingRect(cnt)\n",
    "dst = cv2.rectangle(dst,(x,y),(x+w,y+h),(0,100,0),2)\n",
    "\n",
    "cv2.imshow('dst', dst)\n",
    "cv2.waitKey()\n",
    "cv2.destroyAllWindows()\n",
    "'''\n",
    "\"\"\"\n",
    "x,y,w,h = cv2.boundingRect(contour2[0])\n",
    "cv2.rectangle(dst, (x,y), (x+w, y+h), (100,255,100), 1)\n",
    "cv2.imshow('Bound Fit shapes',dst)\n",
    "cv2.waitKey(0)\n",
    "cv2.destroyAllWindows()\n",
    "\"\"\""
   ]
  },
  {
   "cell_type": "code",
   "execution_count": 16,
   "metadata": {},
   "outputs": [
    {
     "data": {
      "text/plain": [
       "array([[[635, 319]],\n",
       "\n",
       "       [[635, 320]],\n",
       "\n",
       "       [[636, 319]]], dtype=int32)"
      ]
     },
     "execution_count": 16,
     "metadata": {},
     "output_type": "execute_result"
    }
   ],
   "source": [
    "cnt"
   ]
  },
  {
   "cell_type": "code",
   "execution_count": 20,
   "metadata": {},
   "outputs": [
    {
     "data": {
      "text/plain": [
       "2"
      ]
     },
     "execution_count": 20,
     "metadata": {},
     "output_type": "execute_result"
    }
   ],
   "source": [
    "len(contr)"
   ]
  },
  {
   "cell_type": "code",
   "execution_count": 29,
   "metadata": {},
   "outputs": [
    {
     "data": {
      "text/plain": [
       "2"
      ]
     },
     "execution_count": 29,
     "metadata": {},
     "output_type": "execute_result"
    }
   ],
   "source": [
    "len(contr)"
   ]
  },
  {
   "cell_type": "code",
   "execution_count": 30,
   "metadata": {},
   "outputs": [
    {
     "data": {
      "text/plain": [
       "array([[[191, 210]],\n",
       "\n",
       "       [[189, 212]]], dtype=int32)"
      ]
     },
     "execution_count": 30,
     "metadata": {},
     "output_type": "execute_result"
    }
   ],
   "source": [
    "contr"
   ]
  },
  {
   "cell_type": "code",
   "execution_count": 35,
   "metadata": {},
   "outputs": [
    {
     "data": {
      "text/plain": [
       "array([[191, 210],\n",
       "       [189, 212]], dtype=int32)"
      ]
     },
     "execution_count": 35,
     "metadata": {},
     "output_type": "execute_result"
    }
   ],
   "source": [
    "np.squeeze(contour2[0])[:5]"
   ]
  },
  {
   "cell_type": "code",
   "execution_count": 34,
   "metadata": {},
   "outputs": [
    {
     "data": {
      "text/plain": [
       "(2, 1, 2)"
      ]
     },
     "execution_count": 34,
     "metadata": {},
     "output_type": "execute_result"
    }
   ],
   "source": [
    "contour2[0].shape"
   ]
  },
  {
   "cell_type": "code",
   "execution_count": 38,
   "metadata": {},
   "outputs": [
    {
     "data": {
      "text/plain": [
       "2.8284270763397217"
      ]
     },
     "execution_count": 38,
     "metadata": {},
     "output_type": "execute_result"
    }
   ],
   "source": [
    "c0 = contour2[0]\n",
    "cv2.arcLength(c0,closed=True)"
   ]
  },
  {
   "cell_type": "code",
   "execution_count": 39,
   "metadata": {},
   "outputs": [
    {
     "data": {
      "text/plain": [
       "(189, 210, 3, 3)"
      ]
     },
     "execution_count": 39,
     "metadata": {},
     "output_type": "execute_result"
    }
   ],
   "source": [
    "x, y, w, h = cv2.boundingRect(c0)\n",
    "x, y, w, h"
   ]
  },
  {
   "cell_type": "code",
   "execution_count": 42,
   "metadata": {},
   "outputs": [
    {
     "data": {
      "image/png": "[encoded data removed]",
      "text/plain": [
       "<Figure size 432x288 with 1 Axes>"
      ]
     },
     "metadata": {
      "needs_background": "light"
     },
     "output_type": "display_data"
    }
   ],
   "source": []
  },
  {
   "cell_type": "code",
   "execution_count": null,
   "metadata": {},
   "outputs": [],
   "source": []
  }
 ],
 "metadata": {
  "kernelspec": {
   "display_name": "Python 3",
   "language": "python",
   "name": "python3"
  },
  "language_info": {
   "codemirror_mode": {
    "name": "ipython",
    "version": 3
   },
   "file_extension": ".py",
   "mimetype": "text/x-python",
   "name": "python",
   "nbconvert_exporter": "python",
   "pygments_lexer": "ipython3",
   "version": "3.7.1"
  }
 },
 "nbformat": 4,
 "nbformat_minor": 2
}
