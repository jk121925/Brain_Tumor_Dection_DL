{
 "cells": [
  {
   "cell_type": "code",
   "execution_count": 1,
   "metadata": {
    "colab": {
     "base_uri": "https://localhost:8080/"
    },
    "executionInfo": {
     "elapsed": 37,
     "status": "ok",
     "timestamp": 1628920448874,
     "user": {
      "displayName": "박현우",
      "photoUrl": "",
      "userId": "11755996586830834609"
     },
     "user_tz": -540
    },
    "id": "LGQSpOuifS1D",
    "outputId": "29a3fde5-f911-42ae-c3c5-d3914a889580"
   },
   "outputs": [
    {
     "name": "stdout",
     "output_type": "stream",
     "text": [
      "Wed Aug 18 22:56:38 2021       \n",
      "+-----------------------------------------------------------------------------+\n",
      "| NVIDIA-SMI 457.09       Driver Version: 457.09       CUDA Version: 11.1     |\n",
      "|-------------------------------+----------------------+----------------------+\n",
      "| GPU  Name            TCC/WDDM | Bus-Id        Disp.A | Volatile Uncorr. ECC |\n",
      "| Fan  Temp  Perf  Pwr:Usage/Cap|         Memory-Usage | GPU-Util  Compute M. |\n",
      "|                               |                      |               MIG M. |\n",
      "|===============================+======================+======================|\n",
      "|   0  GeForce RTX 2060   WDDM  | 00000000:08:00.0  On |                  N/A |\n",
      "| 29%   35C    P8    16W / 190W |    763MiB /  6144MiB |      0%      Default |\n",
      "|                               |                      |                  N/A |\n",
      "+-------------------------------+----------------------+----------------------+\n",
      "                                                                               \n",
      "+-----------------------------------------------------------------------------+\n",
      "| Processes:                                                                  |\n",
      "|  GPU   GI   CI        PID   Type   Process name                  GPU Memory |\n",
      "|        ID   ID                                                   Usage      |\n",
      "|=============================================================================|\n",
      "|    0   N/A  N/A     10580    C+G   ...s\\Win64\\EpicWebHelper.exe    N/A      |\n",
      "|    0   N/A  N/A     15656    C+G   ...b3d8bbwe\\WinStore.App.exe    N/A      |\n",
      "|    0   N/A  N/A     16864    C+G   ...8wekyb3d8bbwe\\Cortana.exe    N/A      |\n",
      "|    0   N/A  N/A     16972    C+G   ...pp\\AutodeskDesktopApp.exe    N/A      |\n",
      "|    0   N/A  N/A     18644    C+G   ...me\\Application\\chrome.exe    N/A      |\n",
      "|    0   N/A  N/A     18856    C+G   ...artMenuExperienceHost.exe    N/A      |\n",
      "|    0   N/A  N/A     19696    C+G   ...y\\ShellExperienceHost.exe    N/A      |\n",
      "|    0   N/A  N/A     20400    C+G   ...bBrowser\\AcWebBrowser.exe    N/A      |\n",
      "|    0   N/A  N/A     21176    C+G   ...lPanel\\SystemSettings.exe    N/A      |\n",
      "|    0   N/A  N/A     24068    C+G   ...5n1h2txyewy\\SearchApp.exe    N/A      |\n",
      "|    0   N/A  N/A     26204    C+G   ...8wekyb3d8bbwe\\GameBar.exe    N/A      |\n",
      "|    0   N/A  N/A     27512    C+G   Insufficient Permissions        N/A      |\n",
      "|    0   N/A  N/A     28556    C+G   ...n64\\EpicGamesLauncher.exe    N/A      |\n",
      "|    0   N/A  N/A     29352    C+G   ...batNotificationClient.exe    N/A      |\n",
      "|    0   N/A  N/A     30000    C+G   ...wekyb3d8bbwe\\Video.UI.exe    N/A      |\n",
      "|    0   N/A  N/A     30816    C+G   ...obeNotificationClient.exe    N/A      |\n",
      "|    0   N/A  N/A     32020    C+G   ...ekyb3d8bbwe\\YourPhone.exe    N/A      |\n",
      "|    0   N/A  N/A     32832    C+G   C:\\Windows\\explorer.exe         N/A      |\n",
      "|    0   N/A  N/A     34712    C+G   ...nputApp\\TextInputHost.exe    N/A      |\n",
      "|    0   N/A  N/A     35648    C+G   ...les\\NZXT CAM\\NZXT CAM.exe    N/A      |\n",
      "|    0   N/A  N/A     36448    C+G   ...e\\Current\\LogiOverlay.exe    N/A      |\n",
      "+-----------------------------------------------------------------------------+\n"
     ]
    }
   ],
   "source": [
    "gpu_info = !nvidia-smi\n",
    "gpu_info = '\\n'.join(gpu_info)\n",
    "if gpu_info.find('failed') >= 0:\n",
    "  print('Select the Runtime > \"Change runtime type\" menu to enable a GPU accelerator, ')\n",
    "  print('and then re-execute this cell.')\n",
    "else:\n",
    "  print(gpu_info)"
   ]
  },
  {
   "cell_type": "code",
   "execution_count": null,
   "metadata": {
    "colab": {
     "base_uri": "https://localhost:8080/"
    },
    "id": "5eYT1T2e0BXP",
    "outputId": "a5c11cb0-5aa5-4e25-b76a-5810d37e7603"
   },
   "outputs": [
    {
     "name": "stdout",
     "output_type": "stream",
     "text": [
      "Your runtime has 13.6 gigabytes of available RAM\n",
      "\n",
      "To enable a high-RAM runtime, select the Runtime > \"Change runtime type\"\n",
      "menu, and then select High-RAM in the Runtime shape dropdown. Then, \n",
      "re-execute this cell.\n"
     ]
    }
   ],
   "source": [
    "from psutil import virtual_memory\n",
    "ram_gb = virtual_memory().total / 1e9\n",
    "print('Your runtime has {:.1f} gigabytes of available RAM\\n'.format(ram_gb))\n",
    "\n",
    "if ram_gb < 20:\n",
    "  print('To enable a high-RAM runtime, select the Runtime > \"Change runtime type\"')\n",
    "  print('menu, and then select High-RAM in the Runtime shape dropdown. Then, ')\n",
    "  print('re-execute this cell.')\n",
    "else:\n",
    "  print('You are using a high-RAM runtime!')"
   ]
  },
  {
   "cell_type": "markdown",
   "metadata": {
    "id": "KikFysq_fS1E"
   },
   "source": [
    "### 파이토치 이미지 학습 템플릿\n",
    "1. 데이터 정의 (데이터셋 구축 / 데이터 변환 및 전처리 / 데이터 로더 생성)\n",
    "    - 데이터 로더 직접 만들기 (DataLoader class inherit)\n",
    "\n",
    "2. 모델 (기존 모델 import / 모델 직접 짜보기)\n",
    "    - 모델 직접 짜보기\n",
    "    - 기존 모델 class inherit -> forward method override\n",
    "    - Transfer Learning \n",
    "    \n",
    "3. 훈련/평가 (loss 측정 / test data 확인 )\n",
    "    - loss (값 모니터링 / 시각화 )\n",
    "    - save checkpoints (정해진 epoch 마다 모델 가중치 저장) \n",
    "    - check test-data accuracy (한 번도 보지 못한 데이터)"
   ]
  },
  {
   "cell_type": "markdown",
   "metadata": {
    "id": "TaVAc3nPfS1E"
   },
   "source": [
    "#### 라이브러리"
   ]
  },
  {
   "cell_type": "code",
   "execution_count": null,
   "metadata": {
    "id": "-UNYjkLufS1F"
   },
   "outputs": [],
   "source": [
    "import torch, torchvision\n",
    "from torchvision import datasets, models, transforms\n",
    "import torch.nn as nn\n",
    "import torch.nn.functional as F\n",
    "import torch.optim as optim\n",
    "from torch.utils.data import DataLoader\n",
    "import time\n",
    "from torchsummary import summary\n",
    "\n",
    "import numpy as np\n",
    "import matplotlib.pyplot as plt\n",
    "import os\n",
    "\n",
    "from PIL import Image"
   ]
  },
  {
   "cell_type": "code",
   "execution_count": null,
   "metadata": {
    "colab": {
     "base_uri": "https://localhost:8080/"
    },
    "id": "FkGTRvTufS1F",
    "outputId": "b58da147-f242-4bf6-9926-363685f8e201"
   },
   "outputs": [
    {
     "data": {
      "text/plain": [
       "['_DataLoader__initialized',\n",
       " '__annotations__',\n",
       " '__class__',\n",
       " '__class_getitem__',\n",
       " '__delattr__',\n",
       " '__dict__',\n",
       " '__dir__',\n",
       " '__doc__',\n",
       " '__eq__',\n",
       " '__format__',\n",
       " '__ge__',\n",
       " '__getattribute__',\n",
       " '__gt__',\n",
       " '__hash__',\n",
       " '__init__',\n",
       " '__init_subclass__',\n",
       " '__iter__',\n",
       " '__le__',\n",
       " '__len__',\n",
       " '__lt__',\n",
       " '__module__',\n",
       " '__ne__',\n",
       " '__new__',\n",
       " '__orig_bases__',\n",
       " '__parameters__',\n",
       " '__reduce__',\n",
       " '__reduce_ex__',\n",
       " '__repr__',\n",
       " '__setattr__',\n",
       " '__sizeof__',\n",
       " '__slots__',\n",
       " '__str__',\n",
       " '__subclasshook__',\n",
       " '__weakref__',\n",
       " '_auto_collation',\n",
       " '_get_iterator',\n",
       " '_index_sampler',\n",
       " 'check_worker_number_rationality',\n",
       " 'multiprocessing_context']"
      ]
     },
     "execution_count": 4,
     "metadata": {
      "tags": []
     },
     "output_type": "execute_result"
    }
   ],
   "source": [
    "dir(DataLoader)"
   ]
  },
  {
   "cell_type": "code",
   "execution_count": null,
   "metadata": {
    "colab": {
     "base_uri": "https://localhost:8080/"
    },
    "id": "Pg_UYXW6fS1H",
    "outputId": "06d08337-7836-4387-9a1f-be4c6b747e95"
   },
   "outputs": [
    {
     "data": {
      "text/plain": [
       "torch.utils.data.dataloader.DataLoader"
      ]
     },
     "execution_count": 5,
     "metadata": {
      "tags": []
     },
     "output_type": "execute_result"
    }
   ],
   "source": [
    "DataLoader"
   ]
  },
  {
   "cell_type": "code",
   "execution_count": null,
   "metadata": {
    "colab": {
     "base_uri": "https://localhost:8080/"
    },
    "id": "TYrAQ39BfS1H",
    "outputId": "ad379163-6d2b-4b06-b335-61d612416868"
   },
   "outputs": [
    {
     "name": "stdout",
     "output_type": "stream",
     "text": [
      "class DataLoader(Generic[T_co]):\n",
      "    r\"\"\"\n",
      "    Data loader. Combines a dataset and a sampler, and provides an iterable over\n",
      "    the given dataset.\n",
      "\n",
      "    The :class:`~torch.utils.data.DataLoader` supports both map-style and\n",
      "    iterable-style datasets with single- or multi-process loading, customizing\n",
      "    loading order and optional automatic batching (collation) and memory pinning.\n",
      "\n",
      "    See :py:mod:`torch.utils.data` documentation page for more details.\n",
      "\n",
      "    Args:\n",
      "        dataset (Dataset): dataset from which to load the data.\n",
      "        batch_size (int, optional): how many samples per batch to load\n",
      "            (default: ``1``).\n",
      "        shuffle (bool, optional): set to ``True`` to have the data reshuffled\n",
      "            at every epoch (default: ``False``).\n",
      "        sampler (Sampler or Iterable, optional): defines the strategy to draw\n",
      "            samples from the dataset. Can be any ``Iterable`` with ``__len__``\n",
      "            implemented. If specified, :attr:`shuffle` must not be specified.\n",
      "        batch_sampler (Sampler or Iterable, optional): like :attr:`sampler`, but\n",
      "            returns a batch of indices at a time. Mutually exclusive with\n",
      "            :attr:`batch_size`, :attr:`shuffle`, :attr:`sampler`,\n",
      "            and :attr:`drop_last`.\n",
      "        num_workers (int, optional): how many subprocesses to use for data\n",
      "            loading. ``0`` means that the data will be loaded in the main process.\n",
      "            (default: ``0``)\n",
      "        collate_fn (callable, optional): merges a list of samples to form a\n",
      "            mini-batch of Tensor(s).  Used when using batched loading from a\n",
      "            map-style dataset.\n",
      "        pin_memory (bool, optional): If ``True``, the data loader will copy Tensors\n",
      "            into CUDA pinned memory before returning them.  If your data elements\n",
      "            are a custom type, or your :attr:`collate_fn` returns a batch that is a custom type,\n",
      "            see the example below.\n",
      "        drop_last (bool, optional): set to ``True`` to drop the last incomplete batch,\n",
      "            if the dataset size is not divisible by the batch size. If ``False`` and\n",
      "            the size of dataset is not divisible by the batch size, then the last batch\n",
      "            will be smaller. (default: ``False``)\n",
      "        timeout (numeric, optional): if positive, the timeout value for collecting a batch\n",
      "            from workers. Should always be non-negative. (default: ``0``)\n",
      "        worker_init_fn (callable, optional): If not ``None``, this will be called on each\n",
      "            worker subprocess with the worker id (an int in ``[0, num_workers - 1]``) as\n",
      "            input, after seeding and before data loading. (default: ``None``)\n",
      "        generator (torch.Generator, optional): If not ``None``, this RNG will be used\n",
      "            by RandomSampler to generate random indexes and multiprocessing to generate\n",
      "            `base_seed` for workers. (default: ``None``)\n",
      "        prefetch_factor (int, optional, keyword-only arg): Number of samples loaded\n",
      "            in advance by each worker. ``2`` means there will be a total of\n",
      "            2 * num_workers samples prefetched across all workers. (default: ``2``)\n",
      "        persistent_workers (bool, optional): If ``True``, the data loader will not shutdown\n",
      "            the worker processes after a dataset has been consumed once. This allows to\n",
      "            maintain the workers `Dataset` instances alive. (default: ``False``)\n",
      "\n",
      "\n",
      "    .. warning:: If the ``spawn`` start method is used, :attr:`worker_init_fn`\n",
      "                 cannot be an unpicklable object, e.g., a lambda function. See\n",
      "                 :ref:`multiprocessing-best-practices` on more details related\n",
      "                 to multiprocessing in PyTorch.\n",
      "\n",
      "    .. warning:: ``len(dataloader)`` heuristic is based on the length of the sampler used.\n",
      "                 When :attr:`dataset` is an :class:`~torch.utils.data.IterableDataset`,\n",
      "                 it instead returns an estimate based on ``len(dataset) / batch_size``, with proper\n",
      "                 rounding depending on :attr:`drop_last`, regardless of multi-process loading\n",
      "                 configurations. This represents the best guess PyTorch can make because PyTorch\n",
      "                 trusts user :attr:`dataset` code in correctly handling multi-process\n",
      "                 loading to avoid duplicate data.\n",
      "\n",
      "                 However, if sharding results in multiple workers having incomplete last batches,\n",
      "                 this estimate can still be inaccurate, because (1) an otherwise complete batch can\n",
      "                 be broken into multiple ones and (2) more than one batch worth of samples can be\n",
      "                 dropped when :attr:`drop_last` is set. Unfortunately, PyTorch can not detect such\n",
      "                 cases in general.\n",
      "\n",
      "                 See `Dataset Types`_ for more details on these two types of datasets and how\n",
      "                 :class:`~torch.utils.data.IterableDataset` interacts with\n",
      "                 `Multi-process data loading`_.\n",
      "\n",
      "    .. warning:: See :ref:`reproducibility`, and :ref:`dataloader-workers-random-seed`, and\n",
      "                 :ref:`data-loading-randomness` notes for random seed related questions.\n",
      "    \"\"\"\n",
      "    dataset: Dataset[T_co]\n",
      "    batch_size: Optional[int]\n",
      "    num_workers: int\n",
      "    pin_memory: bool\n",
      "    drop_last: bool\n",
      "    timeout: float\n",
      "    sampler: Sampler\n",
      "    prefetch_factor: int\n",
      "    _iterator : Optional['_BaseDataLoaderIter']\n",
      "    __initialized = False\n",
      "\n",
      "    def __init__(self, dataset: Dataset[T_co], batch_size: Optional[int] = 1,\n",
      "                 shuffle: bool = False, sampler: Optional[Sampler[int]] = None,\n",
      "                 batch_sampler: Optional[Sampler[Sequence[int]]] = None,\n",
      "                 num_workers: int = 0, collate_fn: Optional[_collate_fn_t] = None,\n",
      "                 pin_memory: bool = False, drop_last: bool = False,\n",
      "                 timeout: float = 0, worker_init_fn: Optional[_worker_init_fn_t] = None,\n",
      "                 multiprocessing_context=None, generator=None,\n",
      "                 *, prefetch_factor: int = 2,\n",
      "                 persistent_workers: bool = False):\n",
      "        torch._C._log_api_usage_once(\"python.data_loader\")\n",
      "\n",
      "        if num_workers < 0:\n",
      "            raise ValueError('num_workers option should be non-negative; '\n",
      "                             'use num_workers=0 to disable multiprocessing.')\n",
      "\n",
      "        if timeout < 0:\n",
      "            raise ValueError('timeout option should be non-negative')\n",
      "\n",
      "        if num_workers == 0 and prefetch_factor != 2:\n",
      "            raise ValueError('prefetch_factor option could only be specified in multiprocessing.'\n",
      "                             'let num_workers > 0 to enable multiprocessing.')\n",
      "        assert prefetch_factor > 0\n",
      "\n",
      "        if persistent_workers and num_workers == 0:\n",
      "            raise ValueError('persistent_workers option needs num_workers > 0')\n",
      "\n",
      "        self.dataset = dataset\n",
      "        self.num_workers = num_workers\n",
      "        self.prefetch_factor = prefetch_factor\n",
      "        self.pin_memory = pin_memory\n",
      "        self.timeout = timeout\n",
      "        self.worker_init_fn = worker_init_fn\n",
      "        self.multiprocessing_context = multiprocessing_context\n",
      "\n",
      "        # Arg-check dataset related before checking samplers because we want to\n",
      "        # tell users that iterable-style datasets are incompatible with custom\n",
      "        # samplers first, so that they don't learn that this combo doesn't work\n",
      "        # after spending time fixing the custom sampler errors.\n",
      "        if isinstance(dataset, IterableDataset):\n",
      "            self._dataset_kind = _DatasetKind.Iterable\n",
      "            # NOTE [ Custom Samplers and IterableDataset ]\n",
      "            #\n",
      "            # `IterableDataset` does not support custom `batch_sampler` or\n",
      "            # `sampler` since the key is irrelevant (unless we support\n",
      "            # generator-style dataset one day...).\n",
      "            #\n",
      "            # For `sampler`, we always create a dummy sampler. This is an\n",
      "            # infinite sampler even when the dataset may have an implemented\n",
      "            # finite `__len__` because in multi-process data loading, naive\n",
      "            # settings will return duplicated data (which may be desired), and\n",
      "            # thus using a sampler with length matching that of dataset will\n",
      "            # cause data lost (you may have duplicates of the first couple\n",
      "            # batches, but never see anything afterwards). Therefore,\n",
      "            # `Iterabledataset` always uses an infinite sampler, an instance of\n",
      "            # `_InfiniteConstantSampler` defined above.\n",
      "            #\n",
      "            # A custom `batch_sampler` essentially only controls the batch size.\n",
      "            # However, it is unclear how useful it would be since an iterable-style\n",
      "            # dataset can handle that within itself. Moreover, it is pointless\n",
      "            # in multi-process data loading as the assignment order of batches\n",
      "            # to workers is an implementation detail so users can not control\n",
      "            # how to batchify each worker's iterable. Thus, we disable this\n",
      "            # option. If this turns out to be useful in future, we can re-enable\n",
      "            # this, and support custom samplers that specify the assignments to\n",
      "            # specific workers.\n",
      "            if shuffle is not False:\n",
      "                raise ValueError(\n",
      "                    \"DataLoader with IterableDataset: expected unspecified \"\n",
      "                    \"shuffle option, but got shuffle={}\".format(shuffle))\n",
      "            elif sampler is not None:\n",
      "                # See NOTE [ Custom Samplers and IterableDataset ]\n",
      "                raise ValueError(\n",
      "                    \"DataLoader with IterableDataset: expected unspecified \"\n",
      "                    \"sampler option, but got sampler={}\".format(sampler))\n",
      "            elif batch_sampler is not None:\n",
      "                # See NOTE [ Custom Samplers and IterableDataset ]\n",
      "                raise ValueError(\n",
      "                    \"DataLoader with IterableDataset: expected unspecified \"\n",
      "                    \"batch_sampler option, but got batch_sampler={}\".format(batch_sampler))\n",
      "        else:\n",
      "            self._dataset_kind = _DatasetKind.Map\n",
      "\n",
      "        if sampler is not None and shuffle:\n",
      "            raise ValueError('sampler option is mutually exclusive with '\n",
      "                             'shuffle')\n",
      "\n",
      "        if batch_sampler is not None:\n",
      "            # auto_collation with custom batch_sampler\n",
      "            if batch_size != 1 or shuffle or sampler is not None or drop_last:\n",
      "                raise ValueError('batch_sampler option is mutually exclusive '\n",
      "                                 'with batch_size, shuffle, sampler, and '\n",
      "                                 'drop_last')\n",
      "            batch_size = None\n",
      "            drop_last = False\n",
      "        elif batch_size is None:\n",
      "            # no auto_collation\n",
      "            if drop_last:\n",
      "                raise ValueError('batch_size=None option disables auto-batching '\n",
      "                                 'and is mutually exclusive with drop_last')\n",
      "\n",
      "        if sampler is None:  # give default samplers\n",
      "            if self._dataset_kind == _DatasetKind.Iterable:\n",
      "                # See NOTE [ Custom Samplers and IterableDataset ]\n",
      "                sampler = _InfiniteConstantSampler()\n",
      "            else:  # map-style\n",
      "                if shuffle:\n",
      "                    # Cannot statically verify that dataset is Sized\n",
      "                    # Somewhat related: see NOTE [ Lack of Default `__len__` in Python Abstract Base Classes ]\n",
      "                    sampler = RandomSampler(dataset, generator=generator)  # type: ignore[arg-type]\n",
      "                else:\n",
      "                    sampler = SequentialSampler(dataset)  # type: ignore[arg-type]\n",
      "\n",
      "        if batch_size is not None and batch_sampler is None:\n",
      "            # auto_collation without custom batch_sampler\n",
      "            batch_sampler = BatchSampler(sampler, batch_size, drop_last)\n",
      "\n",
      "        self.batch_size = batch_size\n",
      "        self.drop_last = drop_last\n",
      "        self.sampler = sampler\n",
      "        self.batch_sampler = batch_sampler\n",
      "        self.generator = generator\n",
      "\n",
      "        if collate_fn is None:\n",
      "            if self._auto_collation:\n",
      "                collate_fn = _utils.collate.default_collate\n",
      "            else:\n",
      "                collate_fn = _utils.collate.default_convert\n",
      "\n",
      "        self.collate_fn = collate_fn\n",
      "        self.persistent_workers = persistent_workers\n",
      "\n",
      "        self.__initialized = True\n",
      "        self._IterableDataset_len_called = None  # See NOTE [ IterableDataset and __len__ ]\n",
      "\n",
      "        self._iterator = None\n",
      "\n",
      "        self.check_worker_number_rationality()\n",
      "\n",
      "    def _get_iterator(self) -> '_BaseDataLoaderIter':\n",
      "        if self.num_workers == 0:\n",
      "            return _SingleProcessDataLoaderIter(self)\n",
      "        else:\n",
      "            self.check_worker_number_rationality()\n",
      "            return _MultiProcessingDataLoaderIter(self)\n",
      "\n",
      "    @property\n",
      "    def multiprocessing_context(self):\n",
      "        return self.__multiprocessing_context\n",
      "\n",
      "    @multiprocessing_context.setter\n",
      "    def multiprocessing_context(self, multiprocessing_context):\n",
      "        if multiprocessing_context is not None:\n",
      "            if self.num_workers > 0:\n",
      "                if isinstance(multiprocessing_context, string_classes):\n",
      "                    valid_start_methods = multiprocessing.get_all_start_methods()\n",
      "                    if multiprocessing_context not in valid_start_methods:\n",
      "                        raise ValueError(\n",
      "                            ('multiprocessing_context option '\n",
      "                             'should specify a valid start method in {!r}, but got '\n",
      "                             'multiprocessing_context={!r}').format(valid_start_methods, multiprocessing_context))\n",
      "                    # error: Argument 1 to \"get_context\" has incompatible type \"Union[str, bytes]\"; expected \"str\"  [arg-type]\n",
      "                    multiprocessing_context = multiprocessing.get_context(multiprocessing_context)  # type: ignore[arg-type]\n",
      "\n",
      "                if not isinstance(multiprocessing_context, python_multiprocessing.context.BaseContext):\n",
      "                    raise TypeError(('multiprocessing_context option should be a valid context '\n",
      "                                     'object or a string specifying the start method, but got '\n",
      "                                     'multiprocessing_context={}').format(multiprocessing_context))\n",
      "            else:\n",
      "                raise ValueError(('multiprocessing_context can only be used with '\n",
      "                                  'multi-process loading (num_workers > 0), but got '\n",
      "                                  'num_workers={}').format(self.num_workers))\n",
      "\n",
      "        self.__multiprocessing_context = multiprocessing_context\n",
      "\n",
      "    def __setattr__(self, attr, val):\n",
      "        if self.__initialized and attr in (\n",
      "                'batch_size', 'batch_sampler', 'sampler', 'drop_last', 'dataset', 'persistent_workers'):\n",
      "            raise ValueError('{} attribute should not be set after {} is '\n",
      "                             'initialized'.format(attr, self.__class__.__name__))\n",
      "\n",
      "        super(DataLoader, self).__setattr__(attr, val)\n",
      "\n",
      "    # We quote '_BaseDataLoaderIter' since it isn't defined yet and the definition can't be moved up\n",
      "    # since '_BaseDataLoaderIter' references 'DataLoader'.\n",
      "    def __iter__(self) -> '_BaseDataLoaderIter':\n",
      "        # When using a single worker the returned iterator should be\n",
      "        # created everytime to avoid reseting its state\n",
      "        # However, in the case of a multiple workers iterator\n",
      "        # the iterator is only created once in the lifetime of the\n",
      "        # DataLoader object so that workers can be reused\n",
      "        if self.persistent_workers and self.num_workers > 0:\n",
      "            if self._iterator is None:\n",
      "                self._iterator = self._get_iterator()\n",
      "            else:\n",
      "                self._iterator._reset(self)\n",
      "            return self._iterator\n",
      "        else:\n",
      "            return self._get_iterator()\n",
      "\n",
      "    @property\n",
      "    def _auto_collation(self):\n",
      "        return self.batch_sampler is not None\n",
      "\n",
      "    @property\n",
      "    def _index_sampler(self):\n",
      "        # The actual sampler used for generating indices for `_DatasetFetcher`\n",
      "        # (see _utils/fetch.py) to read data at each time. This would be\n",
      "        # `.batch_sampler` if in auto-collation mode, and `.sampler` otherwise.\n",
      "        # We can't change `.sampler` and `.batch_sampler` attributes for BC\n",
      "        # reasons.\n",
      "        if self._auto_collation:\n",
      "            return self.batch_sampler\n",
      "        else:\n",
      "            return self.sampler\n",
      "\n",
      "    def __len__(self) -> int:\n",
      "        if self._dataset_kind == _DatasetKind.Iterable:\n",
      "            # NOTE [ IterableDataset and __len__ ]\n",
      "            #\n",
      "            # For `IterableDataset`, `__len__` could be inaccurate when one naively\n",
      "            # does multi-processing data loading, since the samples will be duplicated.\n",
      "            # However, no real use case should be actually using that behavior, so\n",
      "            # it should count as a user error. We should generally trust user\n",
      "            # code to do the proper thing (e.g., configure each replica differently\n",
      "            # in `__iter__`), and give us the correct `__len__` if they choose to\n",
      "            # implement it (this will still throw if the dataset does not implement\n",
      "            # a `__len__`).\n",
      "            #\n",
      "            # To provide a further warning, we track if `__len__` was called on the\n",
      "            # `DataLoader`, save the returned value in `self._len_called`, and warn\n",
      "            # if the iterator ends up yielding more than this number of samples.\n",
      "\n",
      "            # Cannot statically verify that dataset is Sized\n",
      "            length = self._IterableDataset_len_called = len(self.dataset)  # type: ignore[assignment, arg-type]\n",
      "            if self.batch_size is not None:  # IterableDataset doesn't allow custom sampler or batch_sampler\n",
      "                from math import ceil\n",
      "                if self.drop_last:\n",
      "                    length = length // self.batch_size\n",
      "                else:\n",
      "                    length = ceil(length / self.batch_size)\n",
      "            return length\n",
      "        else:\n",
      "            return len(self._index_sampler)\n",
      "\n",
      "    def check_worker_number_rationality(self):\n",
      "        # This function check whether the dataloader's worker number is rational based on\n",
      "        # current system's resource. Current rule is that if the number of workers this\n",
      "        # Dataloader will create is bigger than the number of logical cpus that is allowed to\n",
      "        # use, than we will pop up a warning to let user pay attention.\n",
      "        #\n",
      "        # eg. If current system has 2 physical CPUs with 16 cores each. And each core support 2\n",
      "        #     threads, then the total logical cpus here is 2 * 16 * 2 = 64. Let's say current\n",
      "        #     DataLoader process can use half of them which is 32, then the rational max number of\n",
      "        #     worker that initiated from this process is 32.\n",
      "        #     Now, let's say the created DataLoader has num_works = 40, which is bigger than 32.\n",
      "        #     So the warning message is triggered to notify the user to lower the worker number if\n",
      "        #     necessary.\n",
      "        #\n",
      "        #\n",
      "        # [Note] Please note that this function repects `cpuset` only when os.sched_getaffinity is\n",
      "        #        available (available in most of Linux system, but not OSX and Windows).\n",
      "        #        When os.sched_getaffinity is not available, os.cpu_count() is called instead, but\n",
      "        #        it doesn't repect cpuset.\n",
      "        #        We don't take threading into account since each worker process is single threaded\n",
      "        #        at this time.\n",
      "        #\n",
      "        #        We don't set any threading flags (eg. OMP_NUM_THREADS, MKL_NUM_THREADS, etc)\n",
      "        #        other than `torch.set_num_threads` to 1 in the worker process, if the passing\n",
      "        #        in functions use 3rd party modules that rely on those threading flags to determine\n",
      "        #        how many thread to create (eg. numpy, etc), then it is caller's responsibility to\n",
      "        #        set those flags correctly.\n",
      "        def _create_warning_msg(num_worker_suggest, num_worker_created, cpuset_checked):\n",
      "\n",
      "            suggested_max_worker_msg = ((\n",
      "                \"Our suggested max number of worker in current system is {}{}, which is smaller \"\n",
      "                \"than what this DataLoader is going to create.\").format(\n",
      "                    num_worker_suggest,\n",
      "                    (\"\" if cpuset_checked else \" (`cpuset` is not taken into account)\"))\n",
      "            ) if num_worker_suggest is not None else (\n",
      "                \"DataLoader is not able to compute a suggested max number of worker in current system.\")\n",
      "\n",
      "            warn_msg = (\n",
      "                \"This DataLoader will create {} worker processes in total. {} \"\n",
      "                \"Please be aware that excessive worker creation might get DataLoader running slow or even freeze, \"\n",
      "                \"lower the worker number to avoid potential slowness/freeze if necessary.\").format(\n",
      "                    num_worker_created,\n",
      "                    suggested_max_worker_msg)\n",
      "            return warn_msg\n",
      "\n",
      "        if not self.num_workers or self.num_workers == 0:\n",
      "            return\n",
      "\n",
      "        # try to compute a suggested max number of worker based on system's resource\n",
      "        max_num_worker_suggest = None\n",
      "        cpuset_checked = False\n",
      "        if hasattr(os, 'sched_getaffinity'):\n",
      "            try:\n",
      "                max_num_worker_suggest = len(os.sched_getaffinity(0))\n",
      "                cpuset_checked = True\n",
      "            except Exception:\n",
      "                pass\n",
      "        if max_num_worker_suggest is None:\n",
      "            # os.cpu_count() could return Optional[int]\n",
      "            # get cpu count first and check None in order to satify mypy check\n",
      "            cpu_count = os.cpu_count()\n",
      "            if cpu_count is not None:\n",
      "                max_num_worker_suggest = cpu_count\n",
      "\n",
      "        if max_num_worker_suggest is None:\n",
      "            warnings.warn(_create_warning_msg(\n",
      "                max_num_worker_suggest,\n",
      "                self.num_workers,\n",
      "                cpuset_checked))\n",
      "            return\n",
      "\n",
      "        if self.num_workers > max_num_worker_suggest:\n",
      "            warnings.warn(_create_warning_msg(\n",
      "                max_num_worker_suggest,\n",
      "                self.num_workers,\n",
      "                cpuset_checked))\n",
      "\n"
     ]
    }
   ],
   "source": [
    "# 소스코드 보기 \n",
    "import inspect\n",
    "print(inspect.getsource(torch.utils.data.DataLoader))"
   ]
  },
  {
   "cell_type": "code",
   "execution_count": null,
   "metadata": {
    "colab": {
     "base_uri": "https://localhost:8080/"
    },
    "id": "YowJ2vWlyUk2",
    "outputId": "3cfcb23f-6586-4c3a-c4fd-1061a21e1370"
   },
   "outputs": [
    {
     "name": "stdout",
     "output_type": "stream",
     "text": [
      "[('_DataLoader__initialized', False), ('__annotations__', {'dataset': torch.utils.data.dataset.Dataset[+T_co], 'batch_size': typing.Union[int, NoneType], 'num_workers': <class 'int'>, 'pin_memory': <class 'bool'>, 'drop_last': <class 'bool'>, 'timeout': <class 'float'>, 'sampler': <class 'torch.utils.data.sampler.Sampler'>, 'prefetch_factor': <class 'int'>, '_iterator': typing.Union[ForwardRef('_BaseDataLoaderIter'), NoneType]}), ('__class__', <class 'type'>), ('__class_getitem__', <bound method Generic.__class_getitem__ of <class 'torch.utils.data.dataloader.DataLoader'>>), ('__delattr__', <slot wrapper '__delattr__' of 'object' objects>), ('__dict__', mappingproxy({'__module__': 'torch.utils.data.dataloader', '__annotations__': {'dataset': torch.utils.data.dataset.Dataset[+T_co], 'batch_size': typing.Union[int, NoneType], 'num_workers': <class 'int'>, 'pin_memory': <class 'bool'>, 'drop_last': <class 'bool'>, 'timeout': <class 'float'>, 'sampler': <class 'torch.utils.data.sampler.Sampler'>, 'prefetch_factor': <class 'int'>, '_iterator': typing.Union[ForwardRef('_BaseDataLoaderIter'), NoneType]}, '__doc__': '\\n    Data loader. Combines a dataset and a sampler, and provides an iterable over\\n    the given dataset.\\n\\n    The :class:`~torch.utils.data.DataLoader` supports both map-style and\\n    iterable-style datasets with single- or multi-process loading, customizing\\n    loading order and optional automatic batching (collation) and memory pinning.\\n\\n    See :py:mod:`torch.utils.data` documentation page for more details.\\n\\n    Args:\\n        dataset (Dataset): dataset from which to load the data.\\n        batch_size (int, optional): how many samples per batch to load\\n            (default: ``1``).\\n        shuffle (bool, optional): set to ``True`` to have the data reshuffled\\n            at every epoch (default: ``False``).\\n        sampler (Sampler or Iterable, optional): defines the strategy to draw\\n            samples from the dataset. Can be any ``Iterable`` with ``__len__``\\n            implemented. If specified, :attr:`shuffle` must not be specified.\\n        batch_sampler (Sampler or Iterable, optional): like :attr:`sampler`, but\\n            returns a batch of indices at a time. Mutually exclusive with\\n            :attr:`batch_size`, :attr:`shuffle`, :attr:`sampler`,\\n            and :attr:`drop_last`.\\n        num_workers (int, optional): how many subprocesses to use for data\\n            loading. ``0`` means that the data will be loaded in the main process.\\n            (default: ``0``)\\n        collate_fn (callable, optional): merges a list of samples to form a\\n            mini-batch of Tensor(s).  Used when using batched loading from a\\n            map-style dataset.\\n        pin_memory (bool, optional): If ``True``, the data loader will copy Tensors\\n            into CUDA pinned memory before returning them.  If your data elements\\n            are a custom type, or your :attr:`collate_fn` returns a batch that is a custom type,\\n            see the example below.\\n        drop_last (bool, optional): set to ``True`` to drop the last incomplete batch,\\n            if the dataset size is not divisible by the batch size. If ``False`` and\\n            the size of dataset is not divisible by the batch size, then the last batch\\n            will be smaller. (default: ``False``)\\n        timeout (numeric, optional): if positive, the timeout value for collecting a batch\\n            from workers. Should always be non-negative. (default: ``0``)\\n        worker_init_fn (callable, optional): If not ``None``, this will be called on each\\n            worker subprocess with the worker id (an int in ``[0, num_workers - 1]``) as\\n            input, after seeding and before data loading. (default: ``None``)\\n        generator (torch.Generator, optional): If not ``None``, this RNG will be used\\n            by RandomSampler to generate random indexes and multiprocessing to generate\\n            `base_seed` for workers. (default: ``None``)\\n        prefetch_factor (int, optional, keyword-only arg): Number of samples loaded\\n            in advance by each worker. ``2`` means there will be a total of\\n            2 * num_workers samples prefetched across all workers. (default: ``2``)\\n        persistent_workers (bool, optional): If ``True``, the data loader will not shutdown\\n            the worker processes after a dataset has been consumed once. This allows to\\n            maintain the workers `Dataset` instances alive. (default: ``False``)\\n\\n\\n    .. warning:: If the ``spawn`` start method is used, :attr:`worker_init_fn`\\n                 cannot be an unpicklable object, e.g., a lambda function. See\\n                 :ref:`multiprocessing-best-practices` on more details related\\n                 to multiprocessing in PyTorch.\\n\\n    .. warning:: ``len(dataloader)`` heuristic is based on the length of the sampler used.\\n                 When :attr:`dataset` is an :class:`~torch.utils.data.IterableDataset`,\\n                 it instead returns an estimate based on ``len(dataset) / batch_size``, with proper\\n                 rounding depending on :attr:`drop_last`, regardless of multi-process loading\\n                 configurations. This represents the best guess PyTorch can make because PyTorch\\n                 trusts user :attr:`dataset` code in correctly handling multi-process\\n                 loading to avoid duplicate data.\\n\\n                 However, if sharding results in multiple workers having incomplete last batches,\\n                 this estimate can still be inaccurate, because (1) an otherwise complete batch can\\n                 be broken into multiple ones and (2) more than one batch worth of samples can be\\n                 dropped when :attr:`drop_last` is set. Unfortunately, PyTorch can not detect such\\n                 cases in general.\\n\\n                 See `Dataset Types`_ for more details on these two types of datasets and how\\n                 :class:`~torch.utils.data.IterableDataset` interacts with\\n                 `Multi-process data loading`_.\\n\\n    .. warning:: See :ref:`reproducibility`, and :ref:`dataloader-workers-random-seed`, and\\n                 :ref:`data-loading-randomness` notes for random seed related questions.\\n    ', '_DataLoader__initialized': False, '__init__': <function DataLoader.__init__ at 0x7fca8113b7a0>, '_get_iterator': <function DataLoader._get_iterator at 0x7fca8113b950>, 'multiprocessing_context': <property object at 0x7fca8113d7d0>, '__setattr__': <function DataLoader.__setattr__ at 0x7fca8113bf80>, '__iter__': <function DataLoader.__iter__ at 0x7fca81141050>, '_auto_collation': <property object at 0x7fca8113d710>, '_index_sampler': <property object at 0x7fca8113d830>, '__len__': <function DataLoader.__len__ at 0x7fca81141200>, 'check_worker_number_rationality': <function DataLoader.check_worker_number_rationality at 0x7fca81141290>, '__orig_bases__': (typing.Generic[+T_co],), '__dict__': <attribute '__dict__' of 'DataLoader' objects>, '__weakref__': <attribute '__weakref__' of 'DataLoader' objects>, '__parameters__': (+T_co,)})), ('__dir__', <method '__dir__' of 'object' objects>), ('__doc__', '\\n    Data loader. Combines a dataset and a sampler, and provides an iterable over\\n    the given dataset.\\n\\n    The :class:`~torch.utils.data.DataLoader` supports both map-style and\\n    iterable-style datasets with single- or multi-process loading, customizing\\n    loading order and optional automatic batching (collation) and memory pinning.\\n\\n    See :py:mod:`torch.utils.data` documentation page for more details.\\n\\n    Args:\\n        dataset (Dataset): dataset from which to load the data.\\n        batch_size (int, optional): how many samples per batch to load\\n            (default: ``1``).\\n        shuffle (bool, optional): set to ``True`` to have the data reshuffled\\n            at every epoch (default: ``False``).\\n        sampler (Sampler or Iterable, optional): defines the strategy to draw\\n            samples from the dataset. Can be any ``Iterable`` with ``__len__``\\n            implemented. If specified, :attr:`shuffle` must not be specified.\\n        batch_sampler (Sampler or Iterable, optional): like :attr:`sampler`, but\\n            returns a batch of indices at a time. Mutually exclusive with\\n            :attr:`batch_size`, :attr:`shuffle`, :attr:`sampler`,\\n            and :attr:`drop_last`.\\n        num_workers (int, optional): how many subprocesses to use for data\\n            loading. ``0`` means that the data will be loaded in the main process.\\n            (default: ``0``)\\n        collate_fn (callable, optional): merges a list of samples to form a\\n            mini-batch of Tensor(s).  Used when using batched loading from a\\n            map-style dataset.\\n        pin_memory (bool, optional): If ``True``, the data loader will copy Tensors\\n            into CUDA pinned memory before returning them.  If your data elements\\n            are a custom type, or your :attr:`collate_fn` returns a batch that is a custom type,\\n            see the example below.\\n        drop_last (bool, optional): set to ``True`` to drop the last incomplete batch,\\n            if the dataset size is not divisible by the batch size. If ``False`` and\\n            the size of dataset is not divisible by the batch size, then the last batch\\n            will be smaller. (default: ``False``)\\n        timeout (numeric, optional): if positive, the timeout value for collecting a batch\\n            from workers. Should always be non-negative. (default: ``0``)\\n        worker_init_fn (callable, optional): If not ``None``, this will be called on each\\n            worker subprocess with the worker id (an int in ``[0, num_workers - 1]``) as\\n            input, after seeding and before data loading. (default: ``None``)\\n        generator (torch.Generator, optional): If not ``None``, this RNG will be used\\n            by RandomSampler to generate random indexes and multiprocessing to generate\\n            `base_seed` for workers. (default: ``None``)\\n        prefetch_factor (int, optional, keyword-only arg): Number of samples loaded\\n            in advance by each worker. ``2`` means there will be a total of\\n            2 * num_workers samples prefetched across all workers. (default: ``2``)\\n        persistent_workers (bool, optional): If ``True``, the data loader will not shutdown\\n            the worker processes after a dataset has been consumed once. This allows to\\n            maintain the workers `Dataset` instances alive. (default: ``False``)\\n\\n\\n    .. warning:: If the ``spawn`` start method is used, :attr:`worker_init_fn`\\n                 cannot be an unpicklable object, e.g., a lambda function. See\\n                 :ref:`multiprocessing-best-practices` on more details related\\n                 to multiprocessing in PyTorch.\\n\\n    .. warning:: ``len(dataloader)`` heuristic is based on the length of the sampler used.\\n                 When :attr:`dataset` is an :class:`~torch.utils.data.IterableDataset`,\\n                 it instead returns an estimate based on ``len(dataset) / batch_size``, with proper\\n                 rounding depending on :attr:`drop_last`, regardless of multi-process loading\\n                 configurations. This represents the best guess PyTorch can make because PyTorch\\n                 trusts user :attr:`dataset` code in correctly handling multi-process\\n                 loading to avoid duplicate data.\\n\\n                 However, if sharding results in multiple workers having incomplete last batches,\\n                 this estimate can still be inaccurate, because (1) an otherwise complete batch can\\n                 be broken into multiple ones and (2) more than one batch worth of samples can be\\n                 dropped when :attr:`drop_last` is set. Unfortunately, PyTorch can not detect such\\n                 cases in general.\\n\\n                 See `Dataset Types`_ for more details on these two types of datasets and how\\n                 :class:`~torch.utils.data.IterableDataset` interacts with\\n                 `Multi-process data loading`_.\\n\\n    .. warning:: See :ref:`reproducibility`, and :ref:`dataloader-workers-random-seed`, and\\n                 :ref:`data-loading-randomness` notes for random seed related questions.\\n    '), ('__eq__', <slot wrapper '__eq__' of 'object' objects>), ('__format__', <method '__format__' of 'object' objects>), ('__ge__', <slot wrapper '__ge__' of 'object' objects>), ('__getattribute__', <slot wrapper '__getattribute__' of 'object' objects>), ('__gt__', <slot wrapper '__gt__' of 'object' objects>), ('__hash__', <slot wrapper '__hash__' of 'object' objects>), ('__init__', <function DataLoader.__init__ at 0x7fca8113b7a0>), ('__init_subclass__', <bound method Generic.__init_subclass__ of <class 'torch.utils.data.dataloader.DataLoader'>>), ('__iter__', <function DataLoader.__iter__ at 0x7fca81141050>), ('__le__', <slot wrapper '__le__' of 'object' objects>), ('__len__', <function DataLoader.__len__ at 0x7fca81141200>), ('__lt__', <slot wrapper '__lt__' of 'object' objects>), ('__module__', 'torch.utils.data.dataloader'), ('__ne__', <slot wrapper '__ne__' of 'object' objects>), ('__new__', <function Generic.__new__ at 0x7fcafdb3be60>), ('__orig_bases__', (typing.Generic[+T_co],)), ('__parameters__', (+T_co,)), ('__reduce__', <method '__reduce__' of 'object' objects>), ('__reduce_ex__', <method '__reduce_ex__' of 'object' objects>), ('__repr__', <slot wrapper '__repr__' of 'object' objects>), ('__setattr__', <function DataLoader.__setattr__ at 0x7fca8113bf80>), ('__sizeof__', <method '__sizeof__' of 'object' objects>), ('__slots__', ()), ('__str__', <slot wrapper '__str__' of 'object' objects>), ('__subclasshook__', <built-in method __subclasshook__ of type object at 0x561970f26f20>), ('__weakref__', <attribute '__weakref__' of 'DataLoader' objects>), ('_auto_collation', <property object at 0x7fca8113d710>), ('_get_iterator', <function DataLoader._get_iterator at 0x7fca8113b950>), ('_index_sampler', <property object at 0x7fca8113d830>), ('check_worker_number_rationality', <function DataLoader.check_worker_number_rationality at 0x7fca81141290>), ('multiprocessing_context', <property object at 0x7fca8113d7d0>)]\n"
     ]
    }
   ],
   "source": [
    "print(inspect.getmembers(torch.utils.data.DataLoader))"
   ]
  },
  {
   "cell_type": "markdown",
   "metadata": {
    "id": "35y5UVICfS1I"
   },
   "source": [
    "#### 1. 데이터 정의"
   ]
  },
  {
   "cell_type": "markdown",
   "metadata": {
    "id": "Jeli9BopfS1I"
   },
   "source": [
    "#### A. 데이터셋 구축 / 전처리"
   ]
  },
  {
   "cell_type": "code",
   "execution_count": null,
   "metadata": {
    "id": "4SB3hkB4fS1I"
   },
   "outputs": [],
   "source": [
    "# 이미지 변환\n",
    "image_transforms = { \n",
    "    'train': transforms.Compose([\n",
    "        transforms.RandomResizedCrop(size=256, scale=(0.8, 1.0)),\n",
    "        transforms.RandomRotation(degrees=15),\n",
    "        transforms.RandomHorizontalFlip(),\n",
    "        transforms.CenterCrop(size=224),\n",
    "        transforms.ToTensor(),\n",
    "        transforms.Normalize([0.485, 0.456, 0.406],\n",
    "                             [0.229, 0.224, 0.225])\n",
    "    ]),\n",
    "    'valid': transforms.Compose([\n",
    "        transforms.Resize(size=256),\n",
    "        transforms.CenterCrop(size=224),\n",
    "        transforms.ToTensor(),\n",
    "        transforms.Normalize([0.485, 0.456, 0.406],\n",
    "                             [0.229, 0.224, 0.225])\n",
    "    ]),\n",
    "    'test': transforms.Compose([\n",
    "        transforms.Resize(size=256),\n",
    "        transforms.CenterCrop(size=224),\n",
    "        transforms.ToTensor(),\n",
    "        transforms.Normalize([0.485, 0.456, 0.406],\n",
    "                             [0.229, 0.224, 0.225])\n",
    "    ])\n",
    "}"
   ]
  },
  {
   "cell_type": "markdown",
   "metadata": {
    "id": "kFdxJzcmfS1I"
   },
   "source": [
    "#### B. 데이터로더 생성"
   ]
  },
  {
   "cell_type": "code",
   "execution_count": null,
   "metadata": {
    "colab": {
     "base_uri": "https://localhost:8080/",
     "height": 35
    },
    "id": "reIQNvNJfS1I",
    "outputId": "84260a47-bc0e-4a69-e34a-dec20d8d8671"
   },
   "outputs": [
    {
     "data": {
      "application/vnd.google.colaboratory.intrinsic+json": {
       "type": "string"
      },
      "text/plain": [
       "'/content'"
      ]
     },
     "execution_count": 9,
     "metadata": {
      "tags": []
     },
     "output_type": "execute_result"
    }
   ],
   "source": [
    "os.getcwd()"
   ]
  },
  {
   "cell_type": "code",
   "execution_count": null,
   "metadata": {
    "colab": {
     "base_uri": "https://localhost:8080/"
    },
    "id": "FNSFkFfNzEz-",
    "outputId": "22a50ffc-341d-4ef9-bda3-f3ac9af93f73"
   },
   "outputs": [
    {
     "name": "stdout",
     "output_type": "stream",
     "text": [
      "Mounted at /content/gdrive\n"
     ]
    }
   ],
   "source": [
    "# 구글 드라이브 연결\n",
    "from google.colab import drive\n",
    "drive.mount('/content/gdrive')"
   ]
  },
  {
   "cell_type": "code",
   "execution_count": null,
   "metadata": {
    "colab": {
     "base_uri": "https://localhost:8080/"
    },
    "id": "IN7SrBRKzRK3",
    "outputId": "9a2f7943-8bdf-46db-a865-82fcd06c9a9c"
   },
   "outputs": [
    {
     "data": {
      "text/plain": [
       "['Mondeique_Open_train.csv',\n",
       " 'Mondeique_Open_test.csv',\n",
       " 'imagewoof2',\n",
       " 'imagenette2',\n",
       " 'imagenette2.tgz']"
      ]
     },
     "execution_count": 11,
     "metadata": {
      "tags": []
     },
     "output_type": "execute_result"
    }
   ],
   "source": [
    "# 데이터 까지의 경로\n",
    "os.listdir('./gdrive/MyDrive/Colab_Notebooks/data/')"
   ]
  },
  {
   "cell_type": "code",
   "execution_count": null,
   "metadata": {
    "id": "2GwQb8CHJEii"
   },
   "outputs": [],
   "source": [
    "# 데이터 셋은 아래 링크로 받으실 수도 있습니다!\n",
    "# https://s3.amazonaws.com/fast-ai-imageclas/imagenette2.tgz"
   ]
  },
  {
   "cell_type": "code",
   "execution_count": null,
   "metadata": {
    "id": "hn1id1Ylzku4"
   },
   "outputs": [],
   "source": [
    "# 데이터 복붙 후 압축 풀기\n",
    "# GDrive 에 올린 압축 푼 데이터를 사용하는 거 보다 빠름\n",
    "\n",
    "from google.colab import output\n",
    "\n",
    "DATA_ZIP_PATH = '/content/gdrive/MyDrive/Colab_Notebooks/data/'\n",
    "\n",
    "# !cp 파일1 파일2 # 파일1을 파일2로 복사 붙여넣기\n",
    "!cp \"/content/gdrive/MyDrive/Colab_Notebooks/data/imagenette2.tgz\" \"imagenette2.tgz\"\n",
    "# imagenette2.zip을 현재 디렉터리에 압축해제\n",
    "!tar -xvzf \"imagenette2.tgz\"\n",
    "\n",
    "# 출력 결과 지우기\n",
    "output.clear()"
   ]
  },
  {
   "cell_type": "code",
   "execution_count": null,
   "metadata": {
    "id": "BJ2bYgOT0qrA"
   },
   "outputs": [],
   "source": [
    "# 폴더명 클래스 이름으로 변경\n",
    "!mv \"./imagenette2/train/n01440764\" \"./imagenette2/train/tench\"\n",
    "!mv \"./imagenette2/train/n02102040\" \"./imagenette2/train/English_springer\"\n",
    "!mv \"./imagenette2/train/n02979186\" \"./imagenette2/train/cassette_player\"\n",
    "!mv \"./imagenette2/train/n03000684\" \"./imagenette2/train/chain_saw\"\n",
    "!mv \"./imagenette2/train/n03028079\" \"./imagenette2/train/church\"\n",
    "!mv \"./imagenette2/train/n03394916\" \"./imagenette2/train/French_horn\"\n",
    "!mv \"./imagenette2/train/n03417042\" \"./imagenette2/train/garbage_truck\"\n",
    "!mv \"./imagenette2/train/n03425413\" \"./imagenette2/train/gas_pump\"\n",
    "!mv \"./imagenette2/train/n03445777\" \"./imagenette2/train/golf_ball\"\n",
    "!mv \"./imagenette2/train/n03888257\" \"./imagenette2/train/parachute\"\n",
    "\n",
    "!mv \"./imagenette2/val/n01440764\" \"./imagenette2/val/tench\"\n",
    "!mv \"./imagenette2/val/n02102040\" \"./imagenette2/val/English_springer\"\n",
    "!mv \"./imagenette2/val/n02979186\" \"./imagenette2/val/cassette_player\"\n",
    "!mv \"./imagenette2/val/n03000684\" \"./imagenette2/val/chain_saw\"\n",
    "!mv \"./imagenette2/val/n03028079\" \"./imagenette2/val/church\"\n",
    "!mv \"./imagenette2/val/n03394916\" \"./imagenette2/val/French_horn\"\n",
    "!mv \"./imagenette2/val/n03417042\" \"./imagenette2/val/garbage_truck\"\n",
    "!mv \"./imagenette2/val/n03425413\" \"./imagenette2/val/gas_pump\"\n",
    "!mv \"./imagenette2/val/n03445777\" \"./imagenette2/val/golf_ball\"\n",
    "!mv \"./imagenette2/val/n03888257\" \"./imagenette2/val/parachute\""
   ]
  },
  {
   "cell_type": "code",
   "execution_count": null,
   "metadata": {
    "colab": {
     "base_uri": "https://localhost:8080/"
    },
    "id": "G6aHIHhafS1I",
    "outputId": "4d94e29f-024e-4242-c84d-2af16582af24"
   },
   "outputs": [
    {
     "name": "stdout",
     "output_type": "stream",
     "text": [
      "10\n",
      "{0: 'English_springer', 1: 'French_horn', 2: 'cassette_player', 3: 'chain_saw', 4: 'church', 5: 'garbage_truck', 6: 'gas_pump', 7: 'golf_ball', 8: 'parachute', 9: 'tench'}\n"
     ]
    }
   ],
   "source": [
    "# Load the Data\n",
    "dataset = 'imagenette2'\n",
    "\n",
    "# Set train and valid directory paths\n",
    "train_directory = './imagenette2/train'\n",
    "# train dataset을 나눠서 train & val 로 활용하고\n",
    "# 주어진 val 은 test 로 활용함\n",
    "test_directory = './imagenette2/val'\n",
    "\n",
    "# Batch size\n",
    "bs = 32 \n",
    "\n",
    "# Number of classes\n",
    "num_classes = len(os.listdir(train_directory))  #10\n",
    "print(num_classes)\n",
    "\n",
    "# Load Data from folders\n",
    "# 일단 같은 train_directory로 'train' & 'valid' dataset을 불러오지만\n",
    "# 이후 과정에서 Subset과 적절한 indexing으로 둘을 깔끔하게 분리해줄 것임\n",
    "data = {\n",
    "    'train': datasets.ImageFolder(root=train_directory, transform=image_transforms['train']),\n",
    "    'valid': datasets.ImageFolder(root=train_directory, transform=image_transforms['valid']),\n",
    "    'test': datasets.ImageFolder(root=test_directory, transform=image_transforms['test'])\n",
    "}\n",
    "\n",
    "# Get a mapping of the indices to the class names, in order to see the output classes of the test images.\n",
    "idx_to_class = {v: k for k, v in data['train'].class_to_idx.items()}\n",
    "print(idx_to_class)\n",
    "\n",
    "# Size of Data, to be used for calculating Average Loss and Accuracy\n",
    "train_data_size = len(data['train'])\n",
    "valid_data_size = len(data['valid'])\n",
    "test_data_size = len(data['test'])"
   ]
  },
  {
   "cell_type": "code",
   "execution_count": null,
   "metadata": {
    "colab": {
     "base_uri": "https://localhost:8080/"
    },
    "id": "DMqfFM-k92eu",
    "outputId": "06cd8213-d577-405d-d016-60102f28e107"
   },
   "outputs": [
    {
     "name": "stdout",
     "output_type": "stream",
     "text": [
      "955\n",
      "956\n",
      "993\n",
      "858\n",
      "941\n",
      "961\n",
      "931\n",
      "951\n",
      "960\n",
      "963\n"
     ]
    }
   ],
   "source": [
    "# just checking size for each class in train dataset\n",
    "print(len(os.listdir(train_directory+'/English_springer/')))\n",
    "print(len(os.listdir(train_directory+'/French_horn/')))\n",
    "print(len(os.listdir(train_directory+'/cassette_player/')))\n",
    "print(len(os.listdir(train_directory+'/chain_saw/')))\n",
    "print(len(os.listdir(train_directory+'/church/')))\n",
    "print(len(os.listdir(train_directory+'/garbage_truck/')))\n",
    "print(len(os.listdir(train_directory+'/gas_pump/')))\n",
    "print(len(os.listdir(train_directory+'/golf_ball/')))\n",
    "print(len(os.listdir(train_directory+'/parachute/')))\n",
    "print(len(os.listdir(train_directory+'/tench/')))"
   ]
  },
  {
   "cell_type": "code",
   "execution_count": null,
   "metadata": {
    "id": "YjTEc0fE_OoR"
   },
   "outputs": [],
   "source": [
    "# trying to do stratified split without scikitlearn\n",
    "import random\n",
    "full_idx = list(range(9469))\n",
    "val_idx = random.sample(range(955), int(955/5))\n",
    "val_idx += random.sample(range(955, 955+956), int(956/5))\n",
    "val_idx += random.sample(range(955+956, 955+956+993), int(993/5))\n",
    "val_idx += random.sample(range(955+956+993, 955+956+993+858), int(858/5))\n",
    "val_idx += random.sample(range(955+956+993+858, 955+956+993+858+941), int(941/5))\n",
    "val_idx += random.sample(range(955+956+993+858+941, 955+956+993+858+941+961), int(961/5))\n",
    "val_idx += random.sample(range(955+956+993+858+941+961, 955+956+993+858+941+961+931), int(931/5))\n",
    "val_idx += random.sample(range(955+956+993+858+941+961+931, 955+956+993+858+941+961+931+951), int(951/5))\n",
    "val_idx += random.sample(range(955+956+993+858+941+961+931+951, 955+956+993+858+941+961+931+951+960), int(960/5))\n",
    "val_idx += random.sample(range(955+956+993+858+941+961+931+951+960, 955+956+993+858+941+961+931+951+960+963), int(963/5))\n",
    "val_idx.sort()\n",
    "train_idx = [idx for idx in full_idx if idx not in val_idx] \n",
    "# created 20% of val index for each class\n",
    "# taking advantage of the fact that Dataset has indexing in order\n",
    "# even though shuffle=True"
   ]
  },
  {
   "cell_type": "code",
   "execution_count": null,
   "metadata": {
    "colab": {
     "base_uri": "https://localhost:8080/"
    },
    "id": "xHM2bonoAY9r",
    "outputId": "8b3b633d-92f4-4494-fa8f-81a68d19fffe"
   },
   "outputs": [
    {
     "name": "stdout",
     "output_type": "stream",
     "text": [
      "1891\n",
      "7578\n",
      "9469\n",
      "9469\n"
     ]
    }
   ],
   "source": [
    "# just checking\n",
    "print(len(val_idx))\n",
    "print(len(train_idx))\n",
    "print(len(val_idx) + len(train_idx))\n",
    "print(len(full_idx))"
   ]
  },
  {
   "cell_type": "code",
   "execution_count": null,
   "metadata": {
    "id": "xEgMH-hECKo0"
   },
   "outputs": [],
   "source": [
    "from torch.utils.data import Subset"
   ]
  },
  {
   "cell_type": "code",
   "execution_count": null,
   "metadata": {
    "id": "9GcxDwiiCKm3"
   },
   "outputs": [],
   "source": [
    "data['train'] = Subset(data['train'], train_idx)\n",
    "data['valid'] = Subset(data['valid'], val_idx)"
   ]
  },
  {
   "cell_type": "code",
   "execution_count": null,
   "metadata": {
    "id": "uqmwZyFJCaZ7"
   },
   "outputs": [],
   "source": [
    "# Size of Data, to be used for calculating Average Loss and Accuracy\n",
    "train_data_size = len(data['train'])\n",
    "valid_data_size = len(data['valid'])\n",
    "test_data_size = len(data['test'])\n",
    "\n",
    "# Create iterators for the Data loaded using DataLoader module\n",
    "train_data_loader = DataLoader(data['train'], batch_size=bs, shuffle=True)\n",
    "valid_data_loader = DataLoader(data['valid'], batch_size=bs, shuffle=False)\n",
    "test_data_loader = DataLoader(data['test'], batch_size=bs, shuffle=False)"
   ]
  },
  {
   "cell_type": "markdown",
   "metadata": {
    "id": "DT8mVWgOfS1J"
   },
   "source": [
    "#### 데이터 로더 확인"
   ]
  },
  {
   "cell_type": "code",
   "execution_count": null,
   "metadata": {
    "colab": {
     "base_uri": "https://localhost:8080/",
     "height": 172
    },
    "id": "-ZyGmd85fS1J",
    "outputId": "f917d4d1-23e2-4a7d-ea66-16c90238bfd9"
   },
   "outputs": [
    {
     "name": "stderr",
     "output_type": "stream",
     "text": [
      "Clipping input data to the valid range for imshow with RGB data ([0..1] for floats or [0..255] for integers).\n"
     ]
    },
    {
     "data": {
      "image/png": "[encoded data removed]",
      "text/plain": [
       "<Figure size 432x288 with 1 Axes>"
      ]
     },
     "metadata": {
      "needs_background": "light",
      "tags": []
     },
     "output_type": "display_data"
    },
    {
     "name": "stdout",
     "output_type": "stream",
     "text": [
      "garbage_truck tench golf_ball French_horn\n"
     ]
    }
   ],
   "source": [
    "def imshow(img):\n",
    "    img = img / 2 + 0.5     # unnormalize\n",
    "    npimg = img.numpy()\n",
    "    plt.imshow(np.transpose(npimg, (1, 2, 0)))\n",
    "    plt.show()\n",
    "# get some random training images\n",
    "\n",
    "trainloader_1 = DataLoader(data['train'], batch_size=4, shuffle=True)\n",
    "\n",
    "dataiter = iter(trainloader_1)\n",
    "images, labels = dataiter.next()\n",
    "\n",
    "# show images\n",
    "imshow(torchvision.utils.make_grid(images))\n",
    "# print labels\n",
    "print(' '.join('%5s' % list(idx_to_class.values())[labels[j]] for j in range(4)))\n",
    "\n",
    "# ㅎㅎ 일단 사진을 확인할 수 있따니 뿌듯"
   ]
  },
  {
   "cell_type": "code",
   "execution_count": null,
   "metadata": {
    "id": "lUVsodFoDP3r"
   },
   "outputs": [],
   "source": [
    "del trainloader_1"
   ]
  },
  {
   "cell_type": "markdown",
   "metadata": {
    "id": "AqdHiAzZfS1J"
   },
   "source": [
    "#### 훈련 데이터, 검증 데이터 / 테스트 데이터"
   ]
  },
  {
   "cell_type": "code",
   "execution_count": null,
   "metadata": {
    "colab": {
     "base_uri": "https://localhost:8080/"
    },
    "id": "KwTwy6ATfS1J",
    "outputId": "99ca09ba-c236-4733-c5e4-fd21419a40f2"
   },
   "outputs": [
    {
     "data": {
      "text/plain": [
       "(7578, 1891, 3925)"
      ]
     },
     "execution_count": 23,
     "metadata": {
      "tags": []
     },
     "output_type": "execute_result"
    }
   ],
   "source": [
    "train_data_size, valid_data_size, test_data_size"
   ]
  },
  {
   "cell_type": "markdown",
   "metadata": {
    "id": "KI6P6wTVfS1K"
   },
   "source": [
    "#### 2. 모델"
   ]
  },
  {
   "cell_type": "markdown",
   "metadata": {
    "id": "4xi9wTfrfS1K"
   },
   "source": [
    "#### Scratch 방식"
   ]
  },
  {
   "cell_type": "code",
   "execution_count": null,
   "metadata": {
    "id": "xicXWUR5fS1K"
   },
   "outputs": [],
   "source": [
    "# 1. 코드를 직접 짜 보셔도 되고 2. 기존의 코드를 inherit 해도 됩니다\n",
    "\n",
    "# 예시 \n",
    "class MyModel(nn.Module):\n",
    "\n",
    "    def __init__(self):\n",
    "        super(MyModel, self).__init__()\n",
    "        \n",
    "        self.conv1 = nn.Conv2d(in_channels=3, out_channels=64, kernel_size=3, stride=2, padding=0)\n",
    "        self.conv2 = nn.Conv2d(in_channels=64, out_channels=128, kernel_size=3, stride=2, padding=0)\n",
    "        self.conv3 = nn.Conv2d(in_channels=128, out_channels=256, kernel_size=3, stride=2, padding=0)\n",
    "        self.conv4 = nn.Conv2d(in_channels=256, out_channels=512, kernel_size=3, stride=2, padding=0)\n",
    "        self.conv5 = nn.Conv2d(in_channels=512, out_channels=512, kernel_size=3, stride=2, padding=0)\n",
    "        self.avgpool = nn.AvgPool2d(kernel_size=6)\n",
    "        self.linear = nn.Linear(512,10)\n",
    "\n",
    "        \n",
    "    def forward(self, x):\n",
    "        # change forward here\n",
    "        x = self.conv1(x)\n",
    "        x = F.relu(x)\n",
    "        \n",
    "        x = self.conv2(x)\n",
    "        x = F.relu(x)\n",
    "\n",
    "        x = self.conv3(x)\n",
    "        x = F.relu(x)\n",
    "\n",
    "        x = self.conv4(x)\n",
    "        x = F.relu(x)\n",
    "\n",
    "        x = self.conv5(x)\n",
    "        x = F.relu(x)\n",
    "\n",
    "        #print(x.size())\n",
    "        x = self.avgpool(x)\n",
    "\n",
    "        x = x.view(-1,512)\n",
    "        #print(x.size())\n",
    "\n",
    "        x = self.linear(x)\n",
    "    \n",
    "        output = F.log_softmax(x, dim=1)\n",
    "\n",
    "        return output\n",
    "\n",
    "mymodel = MyModel()\n",
    "mymodel = mymodel.to('cuda:0')"
   ]
  },
  {
   "cell_type": "markdown",
   "metadata": {
    "id": "QYkLpxvgfS1K"
   },
   "source": [
    "#### Trasnfer Learning with ResNet50\n",
    "- 다른 모델도 많이 있습니다"
   ]
  },
  {
   "cell_type": "code",
   "execution_count": null,
   "metadata": {
    "colab": {
     "base_uri": "https://localhost:8080/"
    },
    "id": "37-M0nEJfS1K",
    "outputId": "4485ab06-94de-467e-d665-c8772631454e"
   },
   "outputs": [
    {
     "name": "stdout",
     "output_type": "stream",
     "text": [
      "from .alexnet import *\n",
      "from .resnet import *\n",
      "from .vgg import *\n",
      "from .squeezenet import *\n",
      "from .inception import *\n",
      "from .densenet import *\n",
      "from .googlenet import *\n",
      "from .mobilenet import *\n",
      "from .mnasnet import *\n",
      "from .shufflenetv2 import *\n",
      "from . import segmentation\n",
      "from . import detection\n",
      "from . import video\n",
      "from . import quantization\n",
      "\n"
     ]
    }
   ],
   "source": [
    "import inspect \n",
    "print(inspect.getsource(torchvision.models))"
   ]
  },
  {
   "cell_type": "code",
   "execution_count": null,
   "metadata": {
    "colab": {
     "base_uri": "https://localhost:8080/",
     "height": 1000,
     "referenced_widgets": [
      "be4f821ab93d47968eab8b6e03395294",
      "f1bcc99cf85c4a9ea3cda3e86664ad96",
      "e58fefd9563e47bc9dac67e78154e761",
      "3e2bca8d796a4d2a9194577c57d92921",
      "c6b5a50340d048ed8c9d2bb6abdba4ae",
      "b7cee37d798b41cca6785c702029685d",
      "c9fd087945ae47368b6c1d61caa0a286",
      "65a48df803504f66b7a4d7a8877f82c8"
     ]
    },
    "id": "7_5a_EzKfS1L",
    "outputId": "4c2c0a72-694c-453b-f674-c2c774fbf013"
   },
   "outputs": [
    {
     "name": "stderr",
     "output_type": "stream",
     "text": [
      "Downloading: \"https://download.pytorch.org/models/resnet18-f37072fd.pth\" to /root/.cache/torch/hub/checkpoints/resnet18-f37072fd.pth\n"
     ]
    },
    {
     "data": {
      "application/vnd.jupyter.widget-view+json": {
       "model_id": "be4f821ab93d47968eab8b6e03395294",
       "version_major": 2,
       "version_minor": 0
      },
      "text/plain": [
       "HBox(children=(FloatProgress(value=0.0, max=46830571.0), HTML(value='')))"
      ]
     },
     "metadata": {
      "tags": []
     },
     "output_type": "display_data"
    },
    {
     "name": "stdout",
     "output_type": "stream",
     "text": [
      "\n"
     ]
    },
    {
     "data": {
      "text/plain": [
       "ResNet(\n",
       "  (conv1): Conv2d(3, 64, kernel_size=(7, 7), stride=(2, 2), padding=(3, 3), bias=False)\n",
       "  (bn1): BatchNorm2d(64, eps=1e-05, momentum=0.1, affine=True, track_running_stats=True)\n",
       "  (relu): ReLU(inplace=True)\n",
       "  (maxpool): MaxPool2d(kernel_size=3, stride=2, padding=1, dilation=1, ceil_mode=False)\n",
       "  (layer1): Sequential(\n",
       "    (0): BasicBlock(\n",
       "      (conv1): Conv2d(64, 64, kernel_size=(3, 3), stride=(1, 1), padding=(1, 1), bias=False)\n",
       "      (bn1): BatchNorm2d(64, eps=1e-05, momentum=0.1, affine=True, track_running_stats=True)\n",
       "      (relu): ReLU(inplace=True)\n",
       "      (conv2): Conv2d(64, 64, kernel_size=(3, 3), stride=(1, 1), padding=(1, 1), bias=False)\n",
       "      (bn2): BatchNorm2d(64, eps=1e-05, momentum=0.1, affine=True, track_running_stats=True)\n",
       "    )\n",
       "    (1): BasicBlock(\n",
       "      (conv1): Conv2d(64, 64, kernel_size=(3, 3), stride=(1, 1), padding=(1, 1), bias=False)\n",
       "      (bn1): BatchNorm2d(64, eps=1e-05, momentum=0.1, affine=True, track_running_stats=True)\n",
       "      (relu): ReLU(inplace=True)\n",
       "      (conv2): Conv2d(64, 64, kernel_size=(3, 3), stride=(1, 1), padding=(1, 1), bias=False)\n",
       "      (bn2): BatchNorm2d(64, eps=1e-05, momentum=0.1, affine=True, track_running_stats=True)\n",
       "    )\n",
       "  )\n",
       "  (layer2): Sequential(\n",
       "    (0): BasicBlock(\n",
       "      (conv1): Conv2d(64, 128, kernel_size=(3, 3), stride=(2, 2), padding=(1, 1), bias=False)\n",
       "      (bn1): BatchNorm2d(128, eps=1e-05, momentum=0.1, affine=True, track_running_stats=True)\n",
       "      (relu): ReLU(inplace=True)\n",
       "      (conv2): Conv2d(128, 128, kernel_size=(3, 3), stride=(1, 1), padding=(1, 1), bias=False)\n",
       "      (bn2): BatchNorm2d(128, eps=1e-05, momentum=0.1, affine=True, track_running_stats=True)\n",
       "      (downsample): Sequential(\n",
       "        (0): Conv2d(64, 128, kernel_size=(1, 1), stride=(2, 2), bias=False)\n",
       "        (1): BatchNorm2d(128, eps=1e-05, momentum=0.1, affine=True, track_running_stats=True)\n",
       "      )\n",
       "    )\n",
       "    (1): BasicBlock(\n",
       "      (conv1): Conv2d(128, 128, kernel_size=(3, 3), stride=(1, 1), padding=(1, 1), bias=False)\n",
       "      (bn1): BatchNorm2d(128, eps=1e-05, momentum=0.1, affine=True, track_running_stats=True)\n",
       "      (relu): ReLU(inplace=True)\n",
       "      (conv2): Conv2d(128, 128, kernel_size=(3, 3), stride=(1, 1), padding=(1, 1), bias=False)\n",
       "      (bn2): BatchNorm2d(128, eps=1e-05, momentum=0.1, affine=True, track_running_stats=True)\n",
       "    )\n",
       "  )\n",
       "  (layer3): Sequential(\n",
       "    (0): BasicBlock(\n",
       "      (conv1): Conv2d(128, 256, kernel_size=(3, 3), stride=(2, 2), padding=(1, 1), bias=False)\n",
       "      (bn1): BatchNorm2d(256, eps=1e-05, momentum=0.1, affine=True, track_running_stats=True)\n",
       "      (relu): ReLU(inplace=True)\n",
       "      (conv2): Conv2d(256, 256, kernel_size=(3, 3), stride=(1, 1), padding=(1, 1), bias=False)\n",
       "      (bn2): BatchNorm2d(256, eps=1e-05, momentum=0.1, affine=True, track_running_stats=True)\n",
       "      (downsample): Sequential(\n",
       "        (0): Conv2d(128, 256, kernel_size=(1, 1), stride=(2, 2), bias=False)\n",
       "        (1): BatchNorm2d(256, eps=1e-05, momentum=0.1, affine=True, track_running_stats=True)\n",
       "      )\n",
       "    )\n",
       "    (1): BasicBlock(\n",
       "      (conv1): Conv2d(256, 256, kernel_size=(3, 3), stride=(1, 1), padding=(1, 1), bias=False)\n",
       "      (bn1): BatchNorm2d(256, eps=1e-05, momentum=0.1, affine=True, track_running_stats=True)\n",
       "      (relu): ReLU(inplace=True)\n",
       "      (conv2): Conv2d(256, 256, kernel_size=(3, 3), stride=(1, 1), padding=(1, 1), bias=False)\n",
       "      (bn2): BatchNorm2d(256, eps=1e-05, momentum=0.1, affine=True, track_running_stats=True)\n",
       "    )\n",
       "  )\n",
       "  (layer4): Sequential(\n",
       "    (0): BasicBlock(\n",
       "      (conv1): Conv2d(256, 512, kernel_size=(3, 3), stride=(2, 2), padding=(1, 1), bias=False)\n",
       "      (bn1): BatchNorm2d(512, eps=1e-05, momentum=0.1, affine=True, track_running_stats=True)\n",
       "      (relu): ReLU(inplace=True)\n",
       "      (conv2): Conv2d(512, 512, kernel_size=(3, 3), stride=(1, 1), padding=(1, 1), bias=False)\n",
       "      (bn2): BatchNorm2d(512, eps=1e-05, momentum=0.1, affine=True, track_running_stats=True)\n",
       "      (downsample): Sequential(\n",
       "        (0): Conv2d(256, 512, kernel_size=(1, 1), stride=(2, 2), bias=False)\n",
       "        (1): BatchNorm2d(512, eps=1e-05, momentum=0.1, affine=True, track_running_stats=True)\n",
       "      )\n",
       "    )\n",
       "    (1): BasicBlock(\n",
       "      (conv1): Conv2d(512, 512, kernel_size=(3, 3), stride=(1, 1), padding=(1, 1), bias=False)\n",
       "      (bn1): BatchNorm2d(512, eps=1e-05, momentum=0.1, affine=True, track_running_stats=True)\n",
       "      (relu): ReLU(inplace=True)\n",
       "      (conv2): Conv2d(512, 512, kernel_size=(3, 3), stride=(1, 1), padding=(1, 1), bias=False)\n",
       "      (bn2): BatchNorm2d(512, eps=1e-05, momentum=0.1, affine=True, track_running_stats=True)\n",
       "    )\n",
       "  )\n",
       "  (avgpool): AdaptiveAvgPool2d(output_size=(1, 1))\n",
       "  (fc): Linear(in_features=512, out_features=1000, bias=True)\n",
       ")"
      ]
     },
     "execution_count": 26,
     "metadata": {
      "tags": []
     },
     "output_type": "execute_result"
    }
   ],
   "source": [
    "# Load pretrained ResNet18 Model\n",
    "resnet18 = models.resnet18(pretrained=True) # transfer learning\n",
    "resnet18.to('cuda:0')"
   ]
  },
  {
   "cell_type": "code",
   "execution_count": null,
   "metadata": {
    "colab": {
     "base_uri": "https://localhost:8080/"
    },
    "id": "qXa41vZofS1L",
    "outputId": "e08e5fb8-a7f5-4611-f81a-2b2c4d22bb10"
   },
   "outputs": [
    {
     "name": "stdout",
     "output_type": "stream",
     "text": [
      "----------------------------------------------------------------\n",
      "        Layer (type)               Output Shape         Param #\n",
      "================================================================\n",
      "            Conv2d-1         [-1, 64, 112, 112]           9,408\n",
      "       BatchNorm2d-2         [-1, 64, 112, 112]             128\n",
      "              ReLU-3         [-1, 64, 112, 112]               0\n",
      "         MaxPool2d-4           [-1, 64, 56, 56]               0\n",
      "            Conv2d-5           [-1, 64, 56, 56]          36,864\n",
      "       BatchNorm2d-6           [-1, 64, 56, 56]             128\n",
      "              ReLU-7           [-1, 64, 56, 56]               0\n",
      "            Conv2d-8           [-1, 64, 56, 56]          36,864\n",
      "       BatchNorm2d-9           [-1, 64, 56, 56]             128\n",
      "             ReLU-10           [-1, 64, 56, 56]               0\n",
      "       BasicBlock-11           [-1, 64, 56, 56]               0\n",
      "           Conv2d-12           [-1, 64, 56, 56]          36,864\n",
      "      BatchNorm2d-13           [-1, 64, 56, 56]             128\n",
      "             ReLU-14           [-1, 64, 56, 56]               0\n",
      "           Conv2d-15           [-1, 64, 56, 56]          36,864\n",
      "      BatchNorm2d-16           [-1, 64, 56, 56]             128\n",
      "             ReLU-17           [-1, 64, 56, 56]               0\n",
      "       BasicBlock-18           [-1, 64, 56, 56]               0\n",
      "           Conv2d-19          [-1, 128, 28, 28]          73,728\n",
      "      BatchNorm2d-20          [-1, 128, 28, 28]             256\n",
      "             ReLU-21          [-1, 128, 28, 28]               0\n",
      "           Conv2d-22          [-1, 128, 28, 28]         147,456\n",
      "      BatchNorm2d-23          [-1, 128, 28, 28]             256\n",
      "           Conv2d-24          [-1, 128, 28, 28]           8,192\n",
      "      BatchNorm2d-25          [-1, 128, 28, 28]             256\n",
      "             ReLU-26          [-1, 128, 28, 28]               0\n",
      "       BasicBlock-27          [-1, 128, 28, 28]               0\n",
      "           Conv2d-28          [-1, 128, 28, 28]         147,456\n",
      "      BatchNorm2d-29          [-1, 128, 28, 28]             256\n",
      "             ReLU-30          [-1, 128, 28, 28]               0\n",
      "           Conv2d-31          [-1, 128, 28, 28]         147,456\n",
      "      BatchNorm2d-32          [-1, 128, 28, 28]             256\n",
      "             ReLU-33          [-1, 128, 28, 28]               0\n",
      "       BasicBlock-34          [-1, 128, 28, 28]               0\n",
      "           Conv2d-35          [-1, 256, 14, 14]         294,912\n",
      "      BatchNorm2d-36          [-1, 256, 14, 14]             512\n",
      "             ReLU-37          [-1, 256, 14, 14]               0\n",
      "           Conv2d-38          [-1, 256, 14, 14]         589,824\n",
      "      BatchNorm2d-39          [-1, 256, 14, 14]             512\n",
      "           Conv2d-40          [-1, 256, 14, 14]          32,768\n",
      "      BatchNorm2d-41          [-1, 256, 14, 14]             512\n",
      "             ReLU-42          [-1, 256, 14, 14]               0\n",
      "       BasicBlock-43          [-1, 256, 14, 14]               0\n",
      "           Conv2d-44          [-1, 256, 14, 14]         589,824\n",
      "      BatchNorm2d-45          [-1, 256, 14, 14]             512\n",
      "             ReLU-46          [-1, 256, 14, 14]               0\n",
      "           Conv2d-47          [-1, 256, 14, 14]         589,824\n",
      "      BatchNorm2d-48          [-1, 256, 14, 14]             512\n",
      "             ReLU-49          [-1, 256, 14, 14]               0\n",
      "       BasicBlock-50          [-1, 256, 14, 14]               0\n",
      "           Conv2d-51            [-1, 512, 7, 7]       1,179,648\n",
      "      BatchNorm2d-52            [-1, 512, 7, 7]           1,024\n",
      "             ReLU-53            [-1, 512, 7, 7]               0\n",
      "           Conv2d-54            [-1, 512, 7, 7]       2,359,296\n",
      "      BatchNorm2d-55            [-1, 512, 7, 7]           1,024\n",
      "           Conv2d-56            [-1, 512, 7, 7]         131,072\n",
      "      BatchNorm2d-57            [-1, 512, 7, 7]           1,024\n",
      "             ReLU-58            [-1, 512, 7, 7]               0\n",
      "       BasicBlock-59            [-1, 512, 7, 7]               0\n",
      "           Conv2d-60            [-1, 512, 7, 7]       2,359,296\n",
      "      BatchNorm2d-61            [-1, 512, 7, 7]           1,024\n",
      "             ReLU-62            [-1, 512, 7, 7]               0\n",
      "           Conv2d-63            [-1, 512, 7, 7]       2,359,296\n",
      "      BatchNorm2d-64            [-1, 512, 7, 7]           1,024\n",
      "             ReLU-65            [-1, 512, 7, 7]               0\n",
      "       BasicBlock-66            [-1, 512, 7, 7]               0\n",
      "AdaptiveAvgPool2d-67            [-1, 512, 1, 1]               0\n",
      "           Linear-68                 [-1, 1000]         513,000\n",
      "================================================================\n",
      "Total params: 11,689,512\n",
      "Trainable params: 11,689,512\n",
      "Non-trainable params: 0\n",
      "----------------------------------------------------------------\n",
      "Input size (MB): 0.57\n",
      "Forward/backward pass size (MB): 62.79\n",
      "Params size (MB): 44.59\n",
      "Estimated Total Size (MB): 107.96\n",
      "----------------------------------------------------------------\n"
     ]
    },
    {
     "name": "stderr",
     "output_type": "stream",
     "text": [
      "/usr/local/lib/python3.7/dist-packages/torch/nn/functional.py:718: UserWarning: Named tensors and all their associated APIs are an experimental feature and subject to change. Please do not use them for anything important until they are released as stable. (Triggered internally at  /pytorch/c10/core/TensorImpl.h:1156.)\n",
      "  return torch.max_pool2d(input, kernel_size, stride, padding, dilation, ceil_mode)\n"
     ]
    }
   ],
   "source": [
    "summary(resnet18, input_size=(3, 224, 224),  device='cuda')"
   ]
  },
  {
   "cell_type": "code",
   "execution_count": null,
   "metadata": {
    "id": "iKojuaz_fS1L"
   },
   "outputs": [],
   "source": [
    "# transfer 하기 위해 pretrained 가중치 freeze\n",
    "# Freeze model parameters\n",
    "for param in resnet18.parameters():\n",
    "    param.requires_grad = False"
   ]
  },
  {
   "cell_type": "code",
   "execution_count": null,
   "metadata": {
    "id": "mtH3T5uWfS1L"
   },
   "outputs": [],
   "source": [
    "# Change the final layer of ResNet50 Model for Transfer Learning\n",
    "fc_inputs = resnet18.fc.in_features # FC layer ResNet\n",
    "\n",
    "resnet18.fc = nn.Sequential(\n",
    "    nn.Linear(fc_inputs, 256),\n",
    "    nn.ReLU(),\n",
    "    nn.Dropout(0.4),\n",
    "    nn.Linear(256, num_classes), # Since 10 possible outputs\n",
    "    nn.LogSoftmax(dim=1) # For using NLLLoss()\n",
    ")\n",
    "\n",
    "# Convert model to be used on GPU\n",
    "resnet18 = resnet18.to('cuda:0')"
   ]
  },
  {
   "cell_type": "markdown",
   "metadata": {
    "id": "EvV8yr1kfS1L"
   },
   "source": [
    "#### Loss Function, Optimizer 정의"
   ]
  },
  {
   "cell_type": "code",
   "execution_count": null,
   "metadata": {
    "id": "xlSCF7tgfS1L"
   },
   "outputs": [],
   "source": [
    "# Define Optimizer and Loss Function\n",
    "loss_func = nn.NLLLoss()\n",
    "optimizer = optim.Adam(resnet18.parameters())"
   ]
  },
  {
   "cell_type": "code",
   "execution_count": null,
   "metadata": {
    "id": "gTMAhlnWcQGY"
   },
   "outputs": [],
   "source": [
    "# # Define Optimizer and Loss Function\n",
    "# loss_func = nn.NLLLoss()\n",
    "# optimizer = optim.Adam(mymodel.parameters())"
   ]
  },
  {
   "cell_type": "markdown",
   "metadata": {
    "id": "pE48t3yMfS1L"
   },
   "source": [
    "#### 3. 훈련 / 평가\n",
    "- train_and_validate\n",
    "- computeTestSetAccuracy\n",
    "- predict"
   ]
  },
  {
   "cell_type": "code",
   "execution_count": null,
   "metadata": {
    "colab": {
     "base_uri": "https://localhost:8080/"
    },
    "id": "9-1vLzjYfS1M",
    "outputId": "65bc3b94-4502-4d80-babb-ccffc0ddcfa5"
   },
   "outputs": [
    {
     "data": {
      "text/plain": [
       "[tensor([[[[-2.1179, -2.1179, -2.1179,  ..., -2.1179, -2.1179, -2.1179],\n",
       "           [-2.1179, -2.1179, -2.1179,  ..., -2.1179, -2.1179, -2.1179],\n",
       "           [-2.1179, -2.1179, -2.1179,  ..., -2.1179, -2.1179, -2.1179],\n",
       "           ...,\n",
       "           [-2.1179, -2.1179, -2.1179,  ..., -2.1179, -2.1179, -2.1179],\n",
       "           [-2.1179, -2.1179, -2.1179,  ..., -2.1179, -2.1179, -2.1179],\n",
       "           [-2.1179, -2.1179, -2.1179,  ..., -2.1179, -2.1179, -2.1179]],\n",
       " \n",
       "          [[-2.0357, -2.0357, -2.0357,  ..., -2.0357, -2.0357, -2.0357],\n",
       "           [-2.0357, -2.0357, -2.0357,  ..., -2.0357, -2.0357, -2.0357],\n",
       "           [-2.0357, -2.0357, -2.0357,  ..., -2.0357, -2.0357, -2.0357],\n",
       "           ...,\n",
       "           [-2.0357, -2.0357, -2.0357,  ..., -2.0357, -2.0357, -2.0357],\n",
       "           [-2.0357, -2.0357, -2.0357,  ..., -2.0357, -2.0357, -2.0357],\n",
       "           [-2.0357, -2.0357, -2.0357,  ..., -2.0357, -2.0357, -2.0357]],\n",
       " \n",
       "          [[-1.8044, -1.8044, -1.8044,  ..., -1.8044, -1.8044, -1.8044],\n",
       "           [-1.8044, -1.8044, -1.8044,  ..., -1.8044, -1.8044, -1.8044],\n",
       "           [-1.8044, -1.8044, -1.8044,  ..., -1.8044, -1.8044, -1.8044],\n",
       "           ...,\n",
       "           [-1.8044, -1.8044, -1.8044,  ..., -1.8044, -1.8044, -1.8044],\n",
       "           [-1.8044, -1.8044, -1.8044,  ..., -1.8044, -1.8044, -1.8044],\n",
       "           [-1.8044, -1.8044, -1.8044,  ..., -1.8044, -1.8044, -1.8044]]],\n",
       " \n",
       " \n",
       "         [[[-2.1179, -2.1179, -0.2856,  ..., -2.1179, -2.1179, -2.1179],\n",
       "           [-2.1179, -2.1179, -0.3712,  ..., -2.1179, -2.1179, -2.1179],\n",
       "           [-2.1179, -2.1179, -0.3369,  ...,  2.0605,  2.0605,  2.0263],\n",
       "           ...,\n",
       "           [-0.9363, -0.8849, -0.7822,  ..., -1.3644, -2.1179, -2.1179],\n",
       "           [-2.1179, -2.1179, -2.1179,  ..., -1.3644, -2.1179, -2.1179],\n",
       "           [-2.1179, -2.1179, -2.1179,  ..., -1.3130, -2.1179, -2.1179]],\n",
       " \n",
       "          [[-2.0357, -2.0357, -0.2500,  ..., -2.0357, -2.0357, -2.0357],\n",
       "           [-2.0357, -2.0357, -0.1975,  ..., -2.0357, -2.0357, -2.0357],\n",
       "           [-2.0357, -2.0357, -0.1975,  ...,  2.4286,  2.4286,  2.4286],\n",
       "           ...,\n",
       "           [-0.9153, -0.8277, -0.6352,  ..., -1.3179, -2.0357, -2.0357],\n",
       "           [-2.0357, -2.0357, -2.0357,  ..., -1.3354, -2.0357, -2.0357],\n",
       "           [-2.0357, -2.0357, -2.0357,  ..., -1.2829, -2.0357, -2.0357]],\n",
       " \n",
       "          [[-1.8044, -1.8044, -0.0790,  ..., -1.8044, -1.8044, -1.8044],\n",
       "           [-1.8044, -1.8044, -0.0267,  ..., -1.8044, -1.8044, -1.8044],\n",
       "           [-1.8044, -1.8044,  0.0082,  ...,  2.6400,  2.6400,  2.6400],\n",
       "           ...,\n",
       "           [-0.7238, -0.6193, -0.3578,  ..., -1.1073, -1.8044, -1.8044],\n",
       "           [-1.8044, -1.8044, -1.8044,  ..., -1.1421, -1.8044, -1.8044],\n",
       "           [-1.8044, -1.8044, -1.8044,  ..., -1.0724, -1.8044, -1.8044]]],\n",
       " \n",
       " \n",
       "         [[[-1.5185, -1.2788, -1.3130,  ..., -2.0323, -1.9980, -1.6555],\n",
       "           [-1.0904, -1.1589, -1.5014,  ..., -2.0665, -1.9809, -1.9980],\n",
       "           [-1.0562, -1.4329, -1.8097,  ..., -1.8953, -1.8782, -2.0665],\n",
       "           ...,\n",
       "           [ 0.4337,  0.3481,  1.0331,  ...,  0.5707,  0.5193,  0.4679],\n",
       "           [ 0.4508,  0.2111,  1.1529,  ...,  0.4508,  0.4337,  0.3652],\n",
       "           [ 0.9474,  0.3481,  1.5468,  ...,  0.1083,  0.1768,  0.1597]],\n",
       " \n",
       "          [[-1.3004, -0.9328, -0.8803,  ..., -1.7906, -1.7556, -1.0553],\n",
       "           [-0.6527, -0.6001, -0.9328,  ..., -1.7731, -1.8782, -1.5630],\n",
       "           [-0.6001, -0.9678, -1.4580,  ..., -1.6331, -1.7731, -1.8081],\n",
       "           ...,\n",
       "           [ 0.7129,  0.4678,  1.1681,  ...,  0.7304,  0.7479,  0.6429],\n",
       "           [ 0.7654,  0.3978,  1.2556,  ...,  0.4153,  0.5728,  0.5553],\n",
       "           [ 1.1506,  0.5028,  1.7108,  ..., -0.0399,  0.0826,  0.1176]],\n",
       " \n",
       "          [[-1.0376, -0.7238, -0.7238,  ..., -1.7522, -1.6824, -1.0724],\n",
       "           [-0.2358, -0.3927, -0.9330,  ..., -1.7347, -1.7347, -1.5604],\n",
       "           [-0.3230, -0.8981, -1.4559,  ..., -1.6127, -1.6999, -1.7522],\n",
       "           ...,\n",
       "           [ 0.5659,  0.9319, -0.0092,  ...,  0.9145,  0.9668,  0.9145],\n",
       "           [ 0.4439,  0.8448, -0.4101,  ...,  0.6356,  0.8274,  0.8797],\n",
       "           [-0.2010,  0.5659, -1.0898,  ...,  0.1825,  0.4091,  0.4788]]],\n",
       " \n",
       " \n",
       "         ...,\n",
       " \n",
       " \n",
       "         [[[-0.5767, -0.5767, -0.5596,  ..., -0.2856, -0.3027, -0.2856],\n",
       "           [-0.5767, -0.5596, -0.5596,  ..., -0.2684, -0.2856, -0.2684],\n",
       "           [-0.5596, -0.5596, -0.5596,  ..., -0.2684, -0.2856, -0.2684],\n",
       "           ...,\n",
       "           [-1.0904, -1.2274, -1.0904,  ..., -1.6555, -1.5357, -1.2788],\n",
       "           [-1.2445, -1.2103, -0.9020,  ..., -1.6727, -1.5699, -1.5528],\n",
       "           [-1.1418, -1.0562, -1.0219,  ..., -1.7412, -1.6898, -1.1760]],\n",
       " \n",
       "          [[ 0.6779,  0.6779,  0.6954,  ...,  0.9405,  0.9230,  0.9405],\n",
       "           [ 0.6779,  0.6954,  0.6954,  ...,  0.9580,  0.9405,  0.9580],\n",
       "           [ 0.6954,  0.6954,  0.6954,  ...,  0.9580,  0.9405,  0.9580],\n",
       "           ...,\n",
       "           [-0.4426, -0.5826, -0.4426,  ..., -1.4405, -1.2829, -1.1078],\n",
       "           [-0.6352, -0.5826, -0.1975,  ..., -1.5105, -1.3529, -1.2829],\n",
       "           [-0.5301, -0.4251, -0.3025,  ..., -1.5805, -1.5630, -1.0728]],\n",
       " \n",
       "          [[ 1.6291,  1.6291,  1.6465,  ...,  1.7685,  1.7511,  1.7685],\n",
       "           [ 1.6291,  1.6465,  1.6465,  ...,  1.7860,  1.7685,  1.7860],\n",
       "           [ 1.6465,  1.6465,  1.6465,  ...,  1.7860,  1.7685,  1.7860],\n",
       "           ...,\n",
       "           [-1.3513, -1.5081, -1.3164,  ..., -1.3513, -1.2816, -1.2641],\n",
       "           [-1.5081, -1.4733, -1.2119,  ..., -1.3339, -1.2641, -1.3164],\n",
       "           [-1.3687, -1.3164, -1.2990,  ..., -1.4559, -1.4559, -1.1073]]],\n",
       " \n",
       " \n",
       "         [[[ 0.0569,  0.2453,  0.4508,  ...,  1.4783,  1.8379,  1.5125],\n",
       "           [ 0.4337,  0.1597,  0.2796,  ...,  1.5297,  1.6153,  1.3927],\n",
       "           [ 0.5878,  0.3823,  0.5193,  ...,  1.5639,  1.6324,  1.3927],\n",
       "           ...,\n",
       "           [ 0.0227, -0.0629,  0.0056,  ...,  0.4679,  0.2967,  0.3823],\n",
       "           [ 0.0227, -0.0629,  0.0056,  ...,  0.3309,  0.2282,  0.2967],\n",
       "           [ 0.0227, -0.0629, -0.0116,  ...,  0.1939,  0.2111,  0.2796]],\n",
       " \n",
       "          [[ 0.1702,  0.3627,  0.5728,  ...,  1.4482,  1.8683,  1.5007],\n",
       "           [ 0.5553,  0.2752,  0.3978,  ...,  1.5007,  1.6232,  1.3957],\n",
       "           [ 0.7129,  0.5028,  0.6429,  ...,  1.5357,  1.6408,  1.4132],\n",
       "           ...,\n",
       "           [-0.7227, -0.8102, -0.7752,  ..., -0.6176, -0.5651, -0.4251],\n",
       "           [-0.7227, -0.8102, -0.7927,  ..., -0.6352, -0.6176, -0.5301],\n",
       "           [-0.7402, -0.8277, -0.8277,  ..., -0.6176, -0.6527, -0.5826]],\n",
       " \n",
       "          [[-0.1487,  0.0431,  0.2522,  ...,  1.1062,  1.4897,  1.1062],\n",
       "           [ 0.2348, -0.0441,  0.0779,  ...,  1.1585,  1.2457,  0.9842],\n",
       "           [ 0.3916,  0.1825,  0.3219,  ...,  1.1934,  1.2631,  1.0191],\n",
       "           ...,\n",
       "           [-0.6367, -0.7064, -0.6715,  ..., -0.6367, -0.6541, -0.5321],\n",
       "           [-0.6018, -0.6890, -0.6541,  ..., -0.6715, -0.6890, -0.6018],\n",
       "           [-0.5844, -0.6715, -0.6367,  ..., -0.7064, -0.6890, -0.6367]]],\n",
       " \n",
       " \n",
       "         [[[-2.1179, -2.1179, -2.1179,  ..., -2.1179, -2.1179, -2.1179],\n",
       "           [-2.1179, -2.1179, -2.1179,  ..., -2.1179, -2.1179, -2.1179],\n",
       "           [-2.1179, -2.1179, -2.1179,  ..., -2.1179, -2.1179, -2.1179],\n",
       "           ...,\n",
       "           [-2.1179, -2.1179, -2.1179,  ..., -2.1179, -2.1179, -2.1179],\n",
       "           [-2.1179, -2.1179, -2.1179,  ..., -2.1179, -2.1179, -2.1179],\n",
       "           [-2.1179, -2.1179, -2.1179,  ..., -2.1179, -2.1179, -2.1179]],\n",
       " \n",
       "          [[-2.0357, -2.0357, -2.0357,  ..., -2.0357, -2.0357, -2.0357],\n",
       "           [-2.0357, -2.0357, -2.0357,  ..., -2.0357, -2.0357, -2.0357],\n",
       "           [-2.0357, -2.0357, -2.0357,  ..., -2.0357, -2.0357, -2.0357],\n",
       "           ...,\n",
       "           [-2.0357, -2.0357, -2.0357,  ..., -2.0357, -2.0357, -2.0357],\n",
       "           [-2.0357, -2.0357, -2.0357,  ..., -2.0357, -2.0357, -2.0357],\n",
       "           [-2.0357, -2.0357, -2.0357,  ..., -2.0357, -2.0357, -2.0357]],\n",
       " \n",
       "          [[-1.8044, -1.8044, -1.8044,  ..., -1.8044, -1.8044, -1.8044],\n",
       "           [-1.8044, -1.8044, -1.8044,  ..., -1.8044, -1.8044, -1.8044],\n",
       "           [-1.8044, -1.8044, -1.8044,  ..., -1.8044, -1.8044, -1.8044],\n",
       "           ...,\n",
       "           [-1.8044, -1.8044, -1.8044,  ..., -1.8044, -1.8044, -1.8044],\n",
       "           [-1.8044, -1.8044, -1.8044,  ..., -1.8044, -1.8044, -1.8044],\n",
       "           [-1.8044, -1.8044, -1.8044,  ..., -1.8044, -1.8044, -1.8044]]]]),\n",
       " tensor([8, 3, 7, 6, 2, 0, 7, 4, 4, 2, 6, 5, 7, 9, 1, 9, 2, 1, 8, 3, 7, 6, 5, 4,\n",
       "         5, 6, 1, 8, 7, 8, 2, 0])]"
      ]
     },
     "execution_count": 32,
     "metadata": {
      "tags": []
     },
     "output_type": "execute_result"
    }
   ],
   "source": [
    "iter(train_data_loader).__next__()"
   ]
  },
  {
   "cell_type": "code",
   "execution_count": null,
   "metadata": {
    "id": "wf0lvl0zfS1M"
   },
   "outputs": [],
   "source": [
    "def train_and_validate(model, loss_criterion, optimizer, epochs=25):\n",
    "    '''\n",
    "    Function to train and validate\n",
    "    Parameters\n",
    "        :param model: Model to train and validate\n",
    "        :param loss_criterion: Loss Criterion to minimize\n",
    "        :param optimizer: Optimizer for computing gradients\n",
    "        :param epochs: Number of epochs (default=25)\n",
    "  \n",
    "    Returns\n",
    "        model: Trained Model with best validation accuracy\n",
    "        history: (dict object): Having training loss, accuracy and validation loss, accuracy\n",
    "    '''\n",
    "    \n",
    "    start = time.time()\n",
    "    history = []\n",
    "    best_acc = 0.0\n",
    "\n",
    "    for epoch in range(epochs):\n",
    "        epoch_start = time.time()\n",
    "        print(\"Epoch: {}/{}\".format(epoch+1, epochs))\n",
    "        \n",
    "        # Set to training mode\n",
    "        model.train()\n",
    "        \n",
    "        # Loss and Accuracy within the epoch\n",
    "        train_loss = 0.0\n",
    "        train_acc = 0.0\n",
    "        \n",
    "        valid_loss = 0.0\n",
    "        valid_acc = 0.0\n",
    "        \n",
    "        for i, (inputs, labels) in enumerate(train_data_loader):\n",
    "\n",
    "            inputs = inputs.to(device)\n",
    "            labels = labels.to(device)\n",
    "            \n",
    "            # Clean existing gradients\n",
    "            optimizer.zero_grad()\n",
    "            \n",
    "            # Forward pass - compute outputs on input data using the model\n",
    "            outputs = model(inputs)\n",
    "            \n",
    "            # Compute loss\n",
    "            loss = loss_criterion(outputs, labels)\n",
    "            \n",
    "            # Backpropagate the gradients\n",
    "            loss.backward()\n",
    "            \n",
    "            # Update the parameters\n",
    "            optimizer.step()\n",
    "            \n",
    "            # Compute the total loss for the batch and add it to train_loss\n",
    "            train_loss += loss.item() * inputs.size(0)\n",
    "            \n",
    "            # Compute the accuracy\n",
    "            ret, predictions = torch.max(outputs.data, 1)\n",
    "            correct_counts = predictions.eq(labels.data.view_as(predictions))\n",
    "            \n",
    "            # Convert correct_counts to float and then compute the mean\n",
    "            acc = torch.mean(correct_counts.type(torch.FloatTensor))\n",
    "            \n",
    "            # Compute total accuracy in the whole batch and add to train_acc\n",
    "            train_acc += acc.item() * inputs.size(0)\n",
    "            \n",
    "            if i%50==0 and i != 0:\n",
    "                print(\"Batch number: {:03d}, Training: Loss: {:.4f}, Accuracy: {:.4f}\".format(i, loss.item(), acc.item()))\n",
    "\n",
    "            \n",
    "        # Validation - No gradient tracking needed\n",
    "        with torch.no_grad():\n",
    "\n",
    "            # Set to evaluation mode\n",
    "            model.eval()\n",
    "\n",
    "            # Validation loop\n",
    "            for j, (inputs, labels) in enumerate(valid_data_loader):\n",
    "                inputs = inputs.to(device)\n",
    "                labels = labels.to(device)\n",
    "\n",
    "                # Forward pass - compute outputs on input data using the model\n",
    "                outputs = model(inputs)\n",
    "\n",
    "                # Compute loss\n",
    "                loss = loss_criterion(outputs, labels)\n",
    "\n",
    "                # Compute the total loss for the batch and add it to valid_loss\n",
    "                valid_loss += loss.item() * inputs.size(0)\n",
    "\n",
    "                # Calculate validation accuracy\n",
    "                ret, predictions = torch.max(outputs.data, 1)\n",
    "                correct_counts = predictions.eq(labels.data.view_as(predictions))\n",
    "\n",
    "                # Convert correct_counts to float and then compute the mean\n",
    "                acc = torch.mean(correct_counts.type(torch.FloatTensor))\n",
    "\n",
    "                # Compute total accuracy in the whole batch and add to valid_acc\n",
    "                valid_acc += acc.item() * inputs.size(0)\n",
    "\n",
    "                #print(\"Validation Batch number: {:03d}, Validation: Loss: {:.4f}, Accuracy: {:.4f}\".format(j, loss.item(), acc.item()))\n",
    "            \n",
    "        # Find average training loss and training accuracy\n",
    "        avg_train_loss = train_loss/train_data_size \n",
    "        avg_train_acc = train_acc/train_data_size\n",
    "\n",
    "        # Find average training loss and training accuracy\n",
    "        avg_valid_loss = valid_loss/valid_data_size \n",
    "        avg_valid_acc = valid_acc/valid_data_size\n",
    "\n",
    "        history.append([avg_train_loss, avg_valid_loss, avg_train_acc, avg_valid_acc])\n",
    "                \n",
    "        epoch_end = time.time()\n",
    "\n",
    "        print(\"Epoch : {:03d}, Training: Loss: {:.4f}, Accuracy: {:.4f}%, \\n\\t\\tValidation : Loss : {:.4f}, Accuracy: {:.4f}%, Time: {:.4f}s\".format(epoch, avg_train_loss, avg_train_acc*100, avg_valid_loss, avg_valid_acc*100, epoch_end-epoch_start))\n",
    "        \n",
    "        # Save if the model has best accuracy till now\n",
    "        if best_acc < avg_valid_acc:\n",
    "            best_acc = avg_valid_acc\n",
    "            torch.save(model, dataset+'_model_'+str(epoch))\n",
    "            \n",
    "    return model, history"
   ]
  },
  {
   "cell_type": "code",
   "execution_count": null,
   "metadata": {
    "colab": {
     "base_uri": "https://localhost:8080/"
    },
    "id": "cW2BQ_TdfS1P",
    "outputId": "01e63c09-6893-472d-928b-2157c76c2cbb"
   },
   "outputs": [
    {
     "name": "stdout",
     "output_type": "stream",
     "text": [
      "Epoch: 1/3\n",
      "Batch number: 050, Training: Loss: 0.0813, Accuracy: 1.0000\n",
      "Batch number: 100, Training: Loss: 0.1189, Accuracy: 1.0000\n",
      "Batch number: 150, Training: Loss: 0.1124, Accuracy: 0.9375\n",
      "Batch number: 200, Training: Loss: 0.4300, Accuracy: 0.8125\n",
      "Epoch : 000, Training: Loss: 0.3521, Accuracy: 90.0501%, \n",
      "\t\tValidation : Loss : 0.0677, Accuracy: 98.0962%, Time: 110.6647s\n",
      "Epoch: 2/3\n",
      "Batch number: 050, Training: Loss: 0.1191, Accuracy: 0.9688\n",
      "Batch number: 100, Training: Loss: 0.0929, Accuracy: 0.9688\n",
      "Batch number: 150, Training: Loss: 0.1475, Accuracy: 0.9062\n",
      "Batch number: 200, Training: Loss: 0.2492, Accuracy: 0.9062\n",
      "Epoch : 001, Training: Loss: 0.1596, Accuracy: 94.9723%, \n",
      "\t\tValidation : Loss : 0.0620, Accuracy: 98.0962%, Time: 110.3075s\n",
      "Epoch: 3/3\n",
      "Batch number: 050, Training: Loss: 0.0461, Accuracy: 1.0000\n",
      "Batch number: 100, Training: Loss: 0.0834, Accuracy: 0.9688\n",
      "Batch number: 150, Training: Loss: 0.1736, Accuracy: 0.9688\n",
      "Batch number: 200, Training: Loss: 0.1352, Accuracy: 0.9375\n",
      "Epoch : 002, Training: Loss: 0.1243, Accuracy: 95.8168%, \n",
      "\t\tValidation : Loss : 0.0734, Accuracy: 97.6203%, Time: 111.4154s\n"
     ]
    }
   ],
   "source": [
    "device = torch.device(\"cuda:0\" if torch.cuda.is_available() else \"cpu\")\n",
    "\n",
    "# Train the model for 20 epochs\n",
    "num_epochs = 3\n",
    "trained_model, history = train_and_validate(resnet18, loss_func, optimizer, num_epochs)      \n",
    "\n",
    "torch.save(history, dataset+'_history.pt')"
   ]
  },
  {
   "cell_type": "code",
   "execution_count": null,
   "metadata": {
    "id": "0mfi4lH4cTcK"
   },
   "outputs": [],
   "source": [
    "# device = torch.device(\"cuda:0\" if torch.cuda.is_available() else \"cpu\")\n",
    "\n",
    "# # Train the model for 20 epochs\n",
    "# num_epochs = 3\n",
    "# trained_model, history = train_and_validate(mymodel, loss_func, optimizer, num_epochs)      \n",
    "\n",
    "# torch.save(history, dataset+'_history.pt')"
   ]
  },
  {
   "cell_type": "markdown",
   "metadata": {
    "id": "KFSyGfb1fS1S"
   },
   "source": [
    "#### Loss 관찰"
   ]
  },
  {
   "cell_type": "code",
   "execution_count": null,
   "metadata": {
    "colab": {
     "base_uri": "https://localhost:8080/",
     "height": 279
    },
    "id": "L8SdYP4HfS1S",
    "outputId": "350534fc-6371-4d46-b402-319b5280376c"
   },
   "outputs": [
    {
     "data": {
      "image/png": "[encoded data removed]",
      "text/plain": [
       "<Figure size 432x288 with 1 Axes>"
      ]
     },
     "metadata": {
      "needs_background": "light",
      "tags": []
     },
     "output_type": "display_data"
    }
   ],
   "source": [
    "history = np.array(history)\n",
    "plt.plot(history[:,0:2])\n",
    "plt.legend(['Tr Loss', 'Val Loss'])\n",
    "plt.xlabel('Epoch Number')\n",
    "plt.ylabel('Loss')\n",
    "plt.savefig(dataset+'_loss_curve.png')\n",
    "plt.show()"
   ]
  },
  {
   "cell_type": "markdown",
   "metadata": {
    "id": "wZeuGwhEfS1T"
   },
   "source": [
    "#### Accuracy 관찰"
   ]
  },
  {
   "cell_type": "code",
   "execution_count": null,
   "metadata": {
    "colab": {
     "base_uri": "https://localhost:8080/",
     "height": 283
    },
    "id": "Wl3PL2UdfS1T",
    "outputId": "876ec446-f6e9-46f3-c134-be1a8d33953d"
   },
   "outputs": [
    {
     "data": {
      "image/png": "[encoded data removed]",
      "text/plain": [
       "<Figure size 432x288 with 1 Axes>"
      ]
     },
     "metadata": {
      "needs_background": "light",
      "tags": []
     },
     "output_type": "display_data"
    }
   ],
   "source": [
    "plt.plot(history[:,2:4])\n",
    "plt.legend(['Tr Accuracy', 'Val Accuracy'])\n",
    "plt.xlabel('Epoch Number')\n",
    "plt.ylabel('Accuracy')\n",
    "plt.ylim(0,1)\n",
    "plt.savefig(dataset+'_accuracy_curve.png')\n",
    "plt.show()"
   ]
  },
  {
   "cell_type": "markdown",
   "metadata": {
    "id": "N-lDE7xWfS1T"
   },
   "source": [
    "#### Test Set Accuracy"
   ]
  },
  {
   "cell_type": "code",
   "execution_count": null,
   "metadata": {
    "id": "rA-weoPQfS1T"
   },
   "outputs": [],
   "source": [
    "def computeTestSetAccuracy(model, loss_criterion):\n",
    "    '''\n",
    "    Function to compute the accuracy on the test set\n",
    "    Parameters\n",
    "        :param model: Model to test\n",
    "        :param loss_criterion: Loss Criterion to minimize\n",
    "    '''\n",
    "\n",
    "    device = torch.device(\"cuda:0\" if torch.cuda.is_available() else \"cpu\")\n",
    "\n",
    "    test_acc = 0.0\n",
    "    test_loss = 0.0\n",
    "\n",
    "    # Validation - No gradient tracking needed\n",
    "    with torch.no_grad():\n",
    "\n",
    "        # Set to evaluation mode\n",
    "        model.eval()\n",
    "\n",
    "        # Validation loop\n",
    "        for j, (inputs, labels) in enumerate(test_data_loader):\n",
    "            inputs = inputs.to(device)\n",
    "            labels = labels.to(device)\n",
    "\n",
    "            # Forward pass - compute outputs on input data using the model\n",
    "            outputs = model(inputs)\n",
    "\n",
    "            # Compute loss\n",
    "            loss = loss_criterion(outputs, labels)\n",
    "\n",
    "            # Compute the total loss for the batch and add it to valid_loss\n",
    "            test_loss += loss.item() * inputs.size(0)\n",
    "\n",
    "            # Calculate validation accuracy\n",
    "            ret, predictions = torch.max(outputs.data, 1)\n",
    "            correct_counts = predictions.eq(labels.data.view_as(predictions))\n",
    "\n",
    "            # Convert correct_counts to float and then compute the mean\n",
    "            acc = torch.mean(correct_counts.type(torch.FloatTensor))\n",
    "\n",
    "            # Compute total accuracy in the whole batch and add to valid_acc\n",
    "            test_acc += acc.item() * inputs.size(0)\n",
    "            if j%50==0 and j!=0:\n",
    "                print(\"Test Batch number: {:03d}, Test: Loss: {:.4f}, Accuracy: {:.4f}\".format(j, loss.item(), acc.item()))\n",
    "\n",
    "    # Find average test loss and test accuracy\n",
    "    avg_test_loss = test_loss/test_data_size \n",
    "    avg_test_acc = test_acc/test_data_size\n",
    "\n",
    "    print(\"Test accuracy : \" + str(avg_test_acc))"
   ]
  },
  {
   "cell_type": "markdown",
   "metadata": {
    "id": "SO4KVnwmfS1T"
   },
   "source": [
    "#### Prediction 수행"
   ]
  },
  {
   "cell_type": "code",
   "execution_count": null,
   "metadata": {
    "id": "vcfGTOMIfS1T"
   },
   "outputs": [],
   "source": [
    "def predict(model, test_image_name):\n",
    "    '''\n",
    "    Function to predict the class of a single test image\n",
    "    Parameters\n",
    "        :param model: Model to test\n",
    "        :param test_image_name: Test image\n",
    "\n",
    "    '''\n",
    "    \n",
    "    transform = image_transforms['test']\n",
    "\n",
    "    test_image = Image.open(test_image_name)\n",
    "    plt.imshow(test_image)\n",
    "    \n",
    "    test_image_tensor = transform(test_image)\n",
    "\n",
    "    if torch.cuda.is_available():\n",
    "        test_image_tensor = test_image_tensor.view(1, 3, 224, 224).cuda()\n",
    "    else:\n",
    "        test_image_tensor = test_image_tensor.view(1, 3, 224, 224)\n",
    "    \n",
    "    with torch.no_grad():\n",
    "        model.eval()\n",
    "        # Model outputs log probabilities\n",
    "        out = model(test_image_tensor)\n",
    "        ps = torch.exp(out)\n",
    "\n",
    "        # 합이 1이 되는 softmax로 변환\n",
    "        softmax = ps/torch.sum(ps)\n",
    "        topk, topclass = softmax.topk(3, dim=1)\n",
    "        for i in range(3):\n",
    "            print(\"Predcition\", i+1, \":\", idx_to_class[topclass.cpu().numpy()[0][i]], \", Score: \", topk.cpu().numpy()[0][i])"
   ]
  },
  {
   "cell_type": "code",
   "execution_count": null,
   "metadata": {
    "colab": {
     "base_uri": "https://localhost:8080/",
     "height": 377
    },
    "id": "BL1T5gNGfS1U",
    "outputId": "4886539f-8dd4-4601-a10e-bce14cf514ab"
   },
   "outputs": [
    {
     "name": "stdout",
     "output_type": "stream",
     "text": [
      "Test Batch number: 050, Test: Loss: 0.0207, Accuracy: 1.0000\n",
      "Test Batch number: 100, Test: Loss: 0.2318, Accuracy: 0.9375\n",
      "Test accuracy : 0.9814012738853504\n",
      "Predcition 1 : English_springer , Score:  0.9998244\n",
      "Predcition 2 : golf_ball , Score:  4.974362e-05\n",
      "Predcition 3 : French_horn , Score:  4.939809e-05\n"
     ]
    },
    {
     "data": {
      "image/png": "[encoded data removed]",
      "text/plain": [
       "<Figure size 432x288 with 1 Axes>"
      ]
     },
     "metadata": {
      "needs_background": "light",
      "tags": []
     },
     "output_type": "display_data"
    }
   ],
   "source": [
    "dataset = 'imagenette2'\n",
    "\n",
    "# 디렉토리에 저장된 모델 이름 한 번 확인해보세요!\n",
    "model = torch.load(f'{dataset}_model_0')\n",
    "loss_criterion = nn.NLLLoss()\n",
    "computeTestSetAccuracy(model, loss_criterion)\n",
    "predict(model, '/content/imagenette2/val/English_springer/ILSVRC2012_val_00004650.JPEG')"
   ]
  },
  {
   "cell_type": "code",
   "execution_count": null,
   "metadata": {
    "id": "5Pf27bCCnTX_"
   },
   "outputs": [],
   "source": [
    "# dataset = 'imagenette2'\n",
    "# model = torch.load(f'{dataset}_model_2')\n",
    "# loss_criterion = nn.NLLLoss()\n",
    "# computeTestSetAccuracy(model, loss_criterion)\n",
    "# predict(model, '/content/imagenette2/val/English_springer/ILSVRC2012_val_00004650.JPEG')"
   ]
  },
  {
   "cell_type": "code",
   "execution_count": null,
   "metadata": {
    "id": "kyuuTsKHfWgn"
   },
   "outputs": [],
   "source": []
  }
 ],
 "metadata": {
  "accelerator": "GPU",
  "colab": {
   "collapsed_sections": [],
   "name": "Project_Tutorial.ipynb",
   "provenance": []
  },
  "kernelspec": {
   "display_name": "Python 3",
   "language": "python",
   "name": "python3"
  },
  "language_info": {
   "codemirror_mode": {
    "name": "ipython",
    "version": 3
   },
   "file_extension": ".py",
   "mimetype": "text/x-python",
   "name": "python",
   "nbconvert_exporter": "python",
   "pygments_lexer": "ipython3",
   "version": "3.7.1"
  },
  "latex_envs": {
   "LaTeX_envs_menu_present": true,
   "autoclose": false,
   "autocomplete": true,
   "bibliofile": "biblio.bib",
   "cite_by": "apalike",
   "current_citInitial": 1,
   "eqLabelWithNumbers": true,
   "eqNumInitial": 1,
   "hotkeys": {
    "equation": "Ctrl-E",
    "itemize": "Ctrl-I"
   },
   "labels_anchors": false,
   "latex_user_defs": false,
   "report_style_numbering": false,
   "user_envs_cfg": false
  },
  "toc": {
   "base_numbering": 1,
   "nav_menu": {},
   "number_sections": true,
   "sideBar": true,
   "skip_h1_title": false,
   "title_cell": "Table of Contents",
   "title_sidebar": "Contents",
   "toc_cell": false,
   "toc_position": {},
   "toc_section_display": true,
   "toc_window_display": false
  },
  "widgets": {
   "application/vnd.jupyter.widget-state+json": {
    "3e2bca8d796a4d2a9194577c57d92921": {
     "model_module": "@jupyter-widgets/controls",
     "model_module_version": "1.5.0",
     "model_name": "HTMLModel",
     "state": {
      "_dom_classes": [],
      "_model_module": "@jupyter-widgets/controls",
      "_model_module_version": "1.5.0",
      "_model_name": "HTMLModel",
      "_view_count": null,
      "_view_module": "@jupyter-widgets/controls",
      "_view_module_version": "1.5.0",
      "_view_name": "HTMLView",
      "description": "",
      "description_tooltip": null,
      "layout": "IPY_MODEL_65a48df803504f66b7a4d7a8877f82c8",
      "placeholder": "​",
      "style": "IPY_MODEL_c9fd087945ae47368b6c1d61caa0a286",
      "value": " 44.7M/44.7M [05:36&lt;00:00, 139kB/s]"
     }
    },
    "65a48df803504f66b7a4d7a8877f82c8": {
     "model_module": "@jupyter-widgets/base",
     "model_module_version": "1.2.0",
     "model_name": "LayoutModel",
     "state": {
      "_model_module": "@jupyter-widgets/base",
      "_model_module_version": "1.2.0",
      "_model_name": "LayoutModel",
      "_view_count": null,
      "_view_module": "@jupyter-widgets/base",
      "_view_module_version": "1.2.0",
      "_view_name": "LayoutView",
      "align_content": null,
      "align_items": null,
      "align_self": null,
      "border": null,
      "bottom": null,
      "display": null,
      "flex": null,
      "flex_flow": null,
      "grid_area": null,
      "grid_auto_columns": null,
      "grid_auto_flow": null,
      "grid_auto_rows": null,
      "grid_column": null,
      "grid_gap": null,
      "grid_row": null,
      "grid_template_areas": null,
      "grid_template_columns": null,
      "grid_template_rows": null,
      "height": null,
      "justify_content": null,
      "justify_items": null,
      "left": null,
      "margin": null,
      "max_height": null,
      "max_width": null,
      "min_height": null,
      "min_width": null,
      "object_fit": null,
      "object_position": null,
      "order": null,
      "overflow": null,
      "overflow_x": null,
      "overflow_y": null,
      "padding": null,
      "right": null,
      "top": null,
      "visibility": null,
      "width": null
     }
    },
    "b7cee37d798b41cca6785c702029685d": {
     "model_module": "@jupyter-widgets/base",
     "model_module_version": "1.2.0",
     "model_name": "LayoutModel",
     "state": {
      "_model_module": "@jupyter-widgets/base",
      "_model_module_version": "1.2.0",
      "_model_name": "LayoutModel",
      "_view_count": null,
      "_view_module": "@jupyter-widgets/base",
      "_view_module_version": "1.2.0",
      "_view_name": "LayoutView",
      "align_content": null,
      "align_items": null,
      "align_self": null,
      "border": null,
      "bottom": null,
      "display": null,
      "flex": null,
      "flex_flow": null,
      "grid_area": null,
      "grid_auto_columns": null,
      "grid_auto_flow": null,
      "grid_auto_rows": null,
      "grid_column": null,
      "grid_gap": null,
      "grid_row": null,
      "grid_template_areas": null,
      "grid_template_columns": null,
      "grid_template_rows": null,
      "height": null,
      "justify_content": null,
      "justify_items": null,
      "left": null,
      "margin": null,
      "max_height": null,
      "max_width": null,
      "min_height": null,
      "min_width": null,
      "object_fit": null,
      "object_position": null,
      "order": null,
      "overflow": null,
      "overflow_x": null,
      "overflow_y": null,
      "padding": null,
      "right": null,
      "top": null,
      "visibility": null,
      "width": null
     }
    },
    "be4f821ab93d47968eab8b6e03395294": {
     "model_module": "@jupyter-widgets/controls",
     "model_module_version": "1.5.0",
     "model_name": "HBoxModel",
     "state": {
      "_dom_classes": [],
      "_model_module": "@jupyter-widgets/controls",
      "_model_module_version": "1.5.0",
      "_model_name": "HBoxModel",
      "_view_count": null,
      "_view_module": "@jupyter-widgets/controls",
      "_view_module_version": "1.5.0",
      "_view_name": "HBoxView",
      "box_style": "",
      "children": [
       "IPY_MODEL_e58fefd9563e47bc9dac67e78154e761",
       "IPY_MODEL_3e2bca8d796a4d2a9194577c57d92921"
      ],
      "layout": "IPY_MODEL_f1bcc99cf85c4a9ea3cda3e86664ad96"
     }
    },
    "c6b5a50340d048ed8c9d2bb6abdba4ae": {
     "model_module": "@jupyter-widgets/controls",
     "model_module_version": "1.5.0",
     "model_name": "ProgressStyleModel",
     "state": {
      "_model_module": "@jupyter-widgets/controls",
      "_model_module_version": "1.5.0",
      "_model_name": "ProgressStyleModel",
      "_view_count": null,
      "_view_module": "@jupyter-widgets/base",
      "_view_module_version": "1.2.0",
      "_view_name": "StyleView",
      "bar_color": null,
      "description_width": "initial"
     }
    },
    "c9fd087945ae47368b6c1d61caa0a286": {
     "model_module": "@jupyter-widgets/controls",
     "model_module_version": "1.5.0",
     "model_name": "DescriptionStyleModel",
     "state": {
      "_model_module": "@jupyter-widgets/controls",
      "_model_module_version": "1.5.0",
      "_model_name": "DescriptionStyleModel",
      "_view_count": null,
      "_view_module": "@jupyter-widgets/base",
      "_view_module_version": "1.2.0",
      "_view_name": "StyleView",
      "description_width": ""
     }
    },
    "e58fefd9563e47bc9dac67e78154e761": {
     "model_module": "@jupyter-widgets/controls",
     "model_module_version": "1.5.0",
     "model_name": "FloatProgressModel",
     "state": {
      "_dom_classes": [],
      "_model_module": "@jupyter-widgets/controls",
      "_model_module_version": "1.5.0",
      "_model_name": "FloatProgressModel",
      "_view_count": null,
      "_view_module": "@jupyter-widgets/controls",
      "_view_module_version": "1.5.0",
      "_view_name": "ProgressView",
      "bar_style": "success",
      "description": "100%",
      "description_tooltip": null,
      "layout": "IPY_MODEL_b7cee37d798b41cca6785c702029685d",
      "max": 46830571,
      "min": 0,
      "orientation": "horizontal",
      "style": "IPY_MODEL_c6b5a50340d048ed8c9d2bb6abdba4ae",
      "value": 46830571
     }
    },
    "f1bcc99cf85c4a9ea3cda3e86664ad96": {
     "model_module": "@jupyter-widgets/base",
     "model_module_version": "1.2.0",
     "model_name": "LayoutModel",
     "state": {
      "_model_module": "@jupyter-widgets/base",
      "_model_module_version": "1.2.0",
      "_model_name": "LayoutModel",
      "_view_count": null,
      "_view_module": "@jupyter-widgets/base",
      "_view_module_version": "1.2.0",
      "_view_name": "LayoutView",
      "align_content": null,
      "align_items": null,
      "align_self": null,
      "border": null,
      "bottom": null,
      "display": null,
      "flex": null,
      "flex_flow": null,
      "grid_area": null,
      "grid_auto_columns": null,
      "grid_auto_flow": null,
      "grid_auto_rows": null,
      "grid_column": null,
      "grid_gap": null,
      "grid_row": null,
      "grid_template_areas": null,
      "grid_template_columns": null,
      "grid_template_rows": null,
      "height": null,
      "justify_content": null,
      "justify_items": null,
      "left": null,
      "margin": null,
      "max_height": null,
      "max_width": null,
      "min_height": null,
      "min_width": null,
      "object_fit": null,
      "object_position": null,
      "order": null,
      "overflow": null,
      "overflow_x": null,
      "overflow_y": null,
      "padding": null,
      "right": null,
      "top": null,
      "visibility": null,
      "width": null
     }
    }
   }
  }
 },
 "nbformat": 4,
 "nbformat_minor": 1
}
