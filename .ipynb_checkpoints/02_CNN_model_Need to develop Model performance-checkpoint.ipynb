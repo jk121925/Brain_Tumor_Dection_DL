{
 "cells": [
  {
   "cell_type": "code",
   "execution_count": 146,
   "metadata": {},
   "outputs": [
    {
     "name": "stderr",
     "output_type": "stream",
     "text": [
      "Setting up a new session...\n"
     ]
    },
    {
     "data": {
      "text/plain": [
       "''"
      ]
     },
     "execution_count": 146,
     "metadata": {},
     "output_type": "execute_result"
    }
   ],
   "source": [
    "import torch\n",
    "import torch.nn as nn\n",
    "from torch.utils.data import Dataset,DataLoader\n",
    "import torchvision\n",
    "from torchvision import datasets, transforms\n",
    "import matplotlib.pyplot as plt\n",
    "import numpy as np\n",
    "import visdom\n",
    "\n",
    "vis = visdom.Visdom()\n",
    "vis.close(env=\"main\")"
   ]
  },
  {
   "cell_type": "code",
   "execution_count": 210,
   "metadata": {},
   "outputs": [],
   "source": [
    "## hyperparameter\n",
    "\n",
    "device = 'cuda' if torch.cuda.is_available() else 'cpu'\n",
    "\n",
    "\n",
    "batch_size =10\n",
    "learning_rate = 1e-3\n",
    "num_epochs =50\n"
   ]
  },
  {
   "cell_type": "code",
   "execution_count": 211,
   "metadata": {},
   "outputs": [],
   "source": [
    "## Transform\n",
    "\n",
    "transform = transforms.Compose([\n",
    "    transforms.ToTensor(),\n",
    "    transforms.Resize((132,132)),\n",
    "    transforms.Normalize((0.5,0.5,0.5),(0.5,0.5,0.5))\n",
    "])\n",
    "train_data = datasets.ImageFolder('C:\\\\Users\\\\jk121\\\\Desktop\\\\temp\\\\archive\\\\Training\\\\',  transform = transform)\n",
    "train_dataloader = torch.utils.data.DataLoader(train_data,batch_size = batch_size,shuffle = True)\n",
    "\n",
    "test_data = datasets.ImageFolder('C:\\\\Users\\\\jk121\\\\Desktop\\\\temp\\\\archive\\\\Testing\\\\',  transform = transform)\n",
    "test_dataloader = torch.utils.data.DataLoader(test_data,batch_size = batch_size,shuffle = True)\n",
    "\n",
    "for num, value in enumerate(test_data):\n",
    "    data, label =value\n",
    "    #print(num,label)\n",
    "    #print(data.shape)\n"
   ]
  },
  {
   "cell_type": "code",
   "execution_count": 212,
   "metadata": {},
   "outputs": [],
   "source": [
    "## CNN\n",
    "\n",
    "class CNN(nn.Module):\n",
    "    def __init__(self):\n",
    "        super(CNN,self).__init__()\n",
    "        self.layer1 = nn.Sequential(\n",
    "            nn.Conv2d(3,8,5),\n",
    "            nn.ReLU(),\n",
    "            nn.MaxPool2d(2)\n",
    "        )\n",
    "        self.layer2 = nn.Sequential(\n",
    "            nn.Conv2d(8,32,5),\n",
    "            nn.ReLU(),\n",
    "            nn.MaxPool2d(2)\n",
    "        )\n",
    "        self.fc = nn.Linear(32*30*30,4, bias = True)\n",
    "        torch.nn.init.xavier_uniform_(self.fc.weight)\n",
    "        '''\n",
    "        self.dropout = nn.Dropout(0.3)\n",
    "        self.conv1 = nn.Conv2d(3,8,5,stride=1)\n",
    "        self.conv2 = nn.Conv2d(8,32,5,stride = 1)\n",
    "        self.conv3 = nn.Conv2d(32,128,3,stride = 1,padding = 1)\n",
    "        self.pool = nn.MaxPool2d(2)\n",
    "        self.flat = nn.Flatten()\n",
    "        self.fc1 = nn.Linear(128*15*15,1024)\n",
    "        self.fc2 = nn.Linear(1024,128)\n",
    "        self.fc3 = nn.Linear(128,4)\n",
    "        '''\n",
    "    def forward(self,x):\n",
    "        out = self.layer1(x)\n",
    "        #print(out.shape)\n",
    "        out = self.layer2(out)\n",
    "        #print(out.shape)\n",
    "        out = out.view(out.size(0),-1)\n",
    "        #print(out.shape)\n",
    "        out = self.fc(out)\n",
    "        return out"
   ]
  },
  {
   "cell_type": "code",
   "execution_count": 213,
   "metadata": {},
   "outputs": [
    {
     "data": {
      "text/plain": [
       "CNN(\n",
       "  (layer1): Sequential(\n",
       "    (0): Conv2d(3, 8, kernel_size=(5, 5), stride=(1, 1))\n",
       "    (1): ReLU()\n",
       "    (2): MaxPool2d(kernel_size=2, stride=2, padding=0, dilation=1, ceil_mode=False)\n",
       "  )\n",
       "  (layer2): Sequential(\n",
       "    (0): Conv2d(8, 32, kernel_size=(5, 5), stride=(1, 1))\n",
       "    (1): ReLU()\n",
       "    (2): MaxPool2d(kernel_size=2, stride=2, padding=0, dilation=1, ceil_mode=False)\n",
       "  )\n",
       "  (fc): Linear(in_features=28800, out_features=4, bias=True)\n",
       ")"
      ]
     },
     "execution_count": 213,
     "metadata": {},
     "output_type": "execute_result"
    }
   ],
   "source": [
    "model = CNN().to(device)\n",
    "A = (torch.Tensor(10,3,132,132)).to(device)\n",
    "test_out = model(A)\n",
    "model"
   ]
  },
  {
   "cell_type": "code",
   "execution_count": 214,
   "metadata": {},
   "outputs": [],
   "source": [
    "criterion = nn.CrossEntropyLoss().to(device)\n",
    "\n",
    "#Use Adam optimizer(We tried a lot of optimizers but results are similar)\n",
    "optimizer = torch.optim.Adam(model.parameters(), lr = learning_rate)"
   ]
  },
  {
   "cell_type": "code",
   "execution_count": 215,
   "metadata": {},
   "outputs": [],
   "source": [
    "\n",
    "\n",
    "def loss_tracker(loss_plot, loss_value, num):\n",
    "    '''num, loss_value, are Tensor'''\n",
    "    vis.line(X=num,\n",
    "             Y=loss_value,\n",
    "             win = loss_plot,\n",
    "             update='append'\n",
    "             )"
   ]
  },
  {
   "cell_type": "code",
   "execution_count": 216,
   "metadata": {},
   "outputs": [
    {
     "name": "stdout",
     "output_type": "stream",
     "text": [
      "[Epoch:1] cost = 0.8219144940376282\n",
      "[Epoch:2] cost = 0.4383249878883362\n",
      "[Epoch:3] cost = 0.2693899869918823\n",
      "[Epoch:4] cost = 0.16929344832897186\n",
      "[Epoch:5] cost = 0.11256968975067139\n",
      "[Epoch:6] cost = 0.05706806853413582\n",
      "[Epoch:7] cost = 0.027240369468927383\n",
      "[Epoch:8] cost = 0.017798971384763718\n",
      "[Epoch:9] cost = 0.025280887261033058\n",
      "[Epoch:10] cost = 0.07157164067029953\n",
      "[Epoch:11] cost = 0.04805997014045715\n",
      "[Epoch:12] cost = 0.02529614046216011\n",
      "[Epoch:13] cost = 0.04490881413221359\n",
      "[Epoch:14] cost = 0.018604887649416924\n",
      "[Epoch:15] cost = 0.020061589777469635\n",
      "[Epoch:16] cost = 0.010992066003382206\n",
      "[Epoch:17] cost = 0.0015671560540795326\n",
      "[Epoch:18] cost = 0.0005063547869212925\n",
      "[Epoch:19] cost = 0.00017566671886015683\n",
      "[Epoch:20] cost = 0.0001256542163901031\n",
      "[Epoch:21] cost = 9.630606655264273e-05\n",
      "[Epoch:22] cost = 7.926899706944823e-05\n",
      "[Epoch:23] cost = 6.497450522147119e-05\n",
      "[Epoch:24] cost = 5.414039333118126e-05\n",
      "[Epoch:25] cost = 4.535299012786709e-05\n",
      "[Epoch:26] cost = 3.8528727600350976e-05\n",
      "[Epoch:27] cost = 3.263326289015822e-05\n",
      "[Epoch:28] cost = 2.7624433641904034e-05\n",
      "[Epoch:29] cost = 2.345996836083941e-05\n",
      "[Epoch:30] cost = 1.9840359527734108e-05\n",
      "[Epoch:31] cost = 1.7530508557683788e-05\n",
      "[Epoch:32] cost = 1.4641514098912012e-05\n",
      "[Epoch:33] cost = 1.2302065442781895e-05\n",
      "[Epoch:34] cost = 1.0374595149187371e-05\n",
      "[Epoch:35] cost = 8.719932338863146e-06\n",
      "[Epoch:36] cost = 7.38762719265651e-06\n",
      "[Epoch:37] cost = 6.219757324288366e-06\n",
      "[Epoch:38] cost = 5.395259904616978e-06\n",
      "[Epoch:39] cost = 4.383955456432886e-06\n",
      "[Epoch:40] cost = 3.892045242537279e-06\n",
      "[Epoch:41] cost = 3.20425442623673e-06\n",
      "[Epoch:42] cost = 2.666716682142578e-06\n",
      "[Epoch:43] cost = 2.381570993748028e-06\n",
      "[Epoch:44] cost = 1.992100351344561e-06\n",
      "[Epoch:45] cost = 1.6823711348479264e-06\n",
      "[Epoch:46] cost = 1.4584089740310446e-06\n",
      "[Epoch:47] cost = 1.2575853816088056e-06\n",
      "[Epoch:48] cost = 1.0207078275925596e-06\n",
      "[Epoch:49] cost = 8.903683124117379e-07\n",
      "[Epoch:50] cost = 7.627692184541957e-07\n"
     ]
    }
   ],
   "source": [
    "\n",
    "total_batch = len(train_dataloader)\n",
    "\n",
    "for epoch in range(num_epochs):\n",
    "    avg_cost = 0\n",
    "    for images, labels in train_dataloader:\n",
    "        #Push tensors to GPU\n",
    "        images = images.to(device)\n",
    "        labels = labels.to(device)\n",
    "        \n",
    "        optimizer.zero_grad()\n",
    "        hypothesis = model(images)\n",
    "\n",
    "        cost = criterion(hypothesis, labels)\n",
    "        cost.backward()      \n",
    "        optimizer.step()\n",
    "        \n",
    "        avg_cost += cost / total_batch\n",
    "    \n",
    "    print('[Epoch:{}] cost = {}'.format(epoch+1, avg_cost))\n",
    "    loss_tracker(loss_plt, torch.Tensor([avg_cost]), torch.Tensor([epoch]))"
   ]
  },
  {
   "cell_type": "code",
   "execution_count": 217,
   "metadata": {},
   "outputs": [
    {
     "name": "stdout",
     "output_type": "stream",
     "text": [
      "Accuracy of the model on the test images: 73.41772151898734 %\n"
     ]
    }
   ],
   "source": [
    "# Test the model\n",
    "model.eval()\n",
    "with torch.no_grad():\n",
    "    correct = 0\n",
    "    total = 0\n",
    "    for images, labels in test_dataloader:\n",
    "        images = images.to(device)\n",
    "        labels = labels.to(device)\n",
    "        outputs = model(images)\n",
    "        _, predicted = torch.max(outputs.data, 1)\n",
    "        total += labels.size(0)\n",
    "        correct += (predicted == labels).sum().item()\n",
    "\n",
    "    print('Accuracy of the model on the test images: {} %'.format(100 * correct / total))"
   ]
  },
  {
   "cell_type": "code",
   "execution_count": 209,
   "metadata": {},
   "outputs": [],
   "source": [
    "###### need to check single img ######\n",
    "\"\"\"\n",
    "import cv2\n",
    "import matplotlib.image as mpimg\n",
    "im = cv2.imread('C:\\\\Users\\\\jk121\\\\Desktop\\\\temp\\\\archive\\\\Training\\\\p(1).jpg')\n",
    "\n",
    "\n",
    "\n",
    "def test_one_image(I, model):\n",
    "    '''\n",
    "    I - 28x28 uint8 numpy array\n",
    "    '''\n",
    "\n",
    "    # test phase\n",
    "    model.eval()\n",
    "\n",
    "    # convert image to torch tensor and add batch dim\n",
    "    batch = torch.tensor(I / 255).unsqueeze(0)\n",
    "\n",
    "    # We don't need gradients for test, so wrap in \n",
    "    # no_grad to save memory\n",
    "    with torch.no_grad():\n",
    "        batch = batch.to(device)\n",
    "\n",
    "        # forward propagation\n",
    "        output = model( batch )\n",
    "\n",
    "        # get prediction\n",
    "        output = torch.argmax(output, 1)\n",
    "\n",
    "    return output\n",
    "\"\"\""
   ]
  },
  {
   "cell_type": "code",
   "execution_count": null,
   "metadata": {},
   "outputs": [],
   "source": []
  }
 ],
 "metadata": {
  "kernelspec": {
   "display_name": "Python 3",
   "language": "python",
   "name": "python3"
  },
  "language_info": {
   "codemirror_mode": {
    "name": "ipython",
    "version": 3
   },
   "file_extension": ".py",
   "mimetype": "text/x-python",
   "name": "python",
   "nbconvert_exporter": "python",
   "pygments_lexer": "ipython3",
   "version": "3.7.1"
  }
 },
 "nbformat": 4,
 "nbformat_minor": 2
}
