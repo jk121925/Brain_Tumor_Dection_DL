{
 "cells": [
  {
   "cell_type": "code",
   "execution_count": 9,
   "metadata": {},
   "outputs": [],
   "source": [
    "import os\n",
    "import cv2\n",
    "import numpy as np\n",
    "import matplotlib.pyplot as plt\n",
    "import imgaug.augmenters as iaa\n",
    "import glob"
   ]
  },
  {
   "cell_type": "code",
   "execution_count": 10,
   "metadata": {},
   "outputs": [],
   "source": [
    "img = cv2.imread('C:\\\\Users\\\\jk121\\\\Desktop\\\\temp\\\\archive\\\\Testing\\\\glioma_tumor\\\\image(9).jpg')"
   ]
  },
  {
   "cell_type": "code",
   "execution_count": 11,
   "metadata": {},
   "outputs": [],
   "source": [
    "#cv2.imshow(\"image\", img)\n",
    "#cv2.waitKey(0)"
   ]
  },
  {
   "cell_type": "code",
   "execution_count": 12,
   "metadata": {},
   "outputs": [],
   "source": [
    "# 1. Load Dataset\n",
    "images=[]\n",
    "images_path = glob.glob(\"archive/Testing/glioma_tumor/*.jpg\")\n",
    "for img_path in images_path:\n",
    "    img = cv2.imread(img_path)\n",
    "    images.append(img)\n",
    "    #cv2.imshow(\"Image\", img)\n",
    "    #cv2.waitKey(0)\n"
   ]
  },
  {
   "cell_type": "code",
   "execution_count": 13,
   "metadata": {},
   "outputs": [],
   "source": [
    "def AUG(img):\n",
    "    augmentation = iaa.Sequential([\n",
    "    ###### Rotating Function ######\n",
    "    iaa.Rot90((1,3), keep_size = False),\n",
    "    ###### Flip ######\n",
    "    iaa.Fliplr(0.5),\n",
    "    iaa.Flipud(0.5),\n",
    "    ###### GaussianBlur ######\n",
    "    iaa.GaussianBlur((0.0,3.0))\n",
    "    ])\n",
    "    augmented_images = augmentation(image = img)\n",
    "    return augmented_images\n",
    "\n",
    "#img = cv2.imread('C:\\\\Users\\\\jk121\\\\Desktop\\\\temp\\\\archive\\\\Testing\\\\glioma_tumor\\\\image(9).jpg')\n",
    "#temp = AUG(img)\n",
    "#cv2.imshow(\"img\",temp)\n",
    "#cv2.waitKey(0)"
   ]
  },
  {
   "cell_type": "code",
   "execution_count": 14,
   "metadata": {},
   "outputs": [
    {
     "ename": "NameError",
     "evalue": "name 'single_img' is not defined",
     "output_type": "error",
     "traceback": [
      "\u001b[1;31m---------------------------------------------------------------------------\u001b[0m",
      "\u001b[1;31mNameError\u001b[0m                                 Traceback (most recent call last)",
      "\u001b[1;32m<ipython-input-14-8d1e646c02b2>\u001b[0m in \u001b[0;36m<module>\u001b[1;34m\u001b[0m\n\u001b[0;32m     10\u001b[0m ])\n\u001b[0;32m     11\u001b[0m \u001b[1;33m\u001b[0m\u001b[0m\n\u001b[1;32m---> 12\u001b[1;33m \u001b[0maugmented_images\u001b[0m \u001b[1;33m=\u001b[0m \u001b[0maugmentation\u001b[0m\u001b[1;33m(\u001b[0m\u001b[0mimages\u001b[0m \u001b[1;33m=\u001b[0m \u001b[0msingle_img\u001b[0m\u001b[1;33m)\u001b[0m\u001b[1;33m\u001b[0m\u001b[1;33m\u001b[0m\u001b[0m\n\u001b[0m\u001b[0;32m     13\u001b[0m \u001b[1;33m\u001b[0m\u001b[0m\n\u001b[0;32m     14\u001b[0m \u001b[1;33m\u001b[0m\u001b[0m\n",
      "\u001b[1;31mNameError\u001b[0m: name 'single_img' is not defined"
     ]
    }
   ],
   "source": [
    "# 2. Image Augmentation\n",
    "augmentation = iaa.Sequential([\n",
    "    ###### Rotating Function ######\n",
    "    iaa.Rot90((1,3), keep_size = False),\n",
    "    ###### Flip ######\n",
    "    iaa.Fliplr(0.5),\n",
    "    iaa.Flipud(0.5),\n",
    "    ###### GaussianBlur ######\n",
    "    iaa.GaussianBlur((0.0,3.0))\n",
    "])\n",
    "\n",
    "augmented_images = augmentation(images = single_img)\n",
    "\n",
    "\n",
    "\n",
    "\n",
    "\n",
    "## save augmented_images\n",
    "\n",
    "def AUG(img):\n",
    "    augmentation = iaa.Sequential([\n",
    "    ###### Rotating Function ######\n",
    "    iaa.Rot90((1,3), keep_size = False),\n",
    "    ###### Flip ######\n",
    "    iaa.Fliplr(0.5),\n",
    "    iaa.Flipud(0.5),\n",
    "    ###### GaussianBlur ######\n",
    "    iaa.GaussianBlur((0.0,3.0))\n",
    "    ])\n",
    "    augmented_images = augmentation(image = img)\n",
    "    return augmented_images\n",
    "\n",
    "\n",
    "root_path = \"./archive/Testing_pre_porcessing\"\n",
    "save_root_path = \"./archive/Untitled Folder\"\n",
    "class_lists = os.listdir(root_path)\n",
    "#print(dir_lists)\n",
    "for class_list in class_lists:\n",
    "    ###### class dir extract\n",
    "    img_dir_path = root_path + '/' + class_list\n",
    "    #print(img_dir_path)\n",
    "    ###### img dir extrac ->./archive/Testing/pituitary_tumor\n",
    "    img_list = os.listdir(img_dir_path)\n",
    "    #print(img_list) -> image(1).jpg\n",
    "    ###### img preprocess\n",
    "    for single_img in img_list:\n",
    "        origin_img_path = img_dir_path + '/' + single_img\n",
    "        #print(origin_img_path)\n",
    "        save_img_path = save_root_path + '/' + class_list + '/'+ single_img\n",
    "        #print(save_img_path)\n",
    "        new_img_name = 'pre_Porocess_' + single_img\n",
    "        #print(new_img_name)\n",
    "        ###### Augmentation\n",
    "        augmented_image = AUG(single_img)\n",
    "        ##cv.imwrite(save_img_path,augmented_image)\n",
    "\n"
   ]
  },
  {
   "cell_type": "code",
   "execution_count": 41,
   "metadata": {},
   "outputs": [
    {
     "ename": "KeyboardInterrupt",
     "evalue": "",
     "output_type": "error",
     "traceback": [
      "\u001b[1;31m---------------------------------------------------------------------------\u001b[0m",
      "\u001b[1;31mKeyboardInterrupt\u001b[0m                         Traceback (most recent call last)",
      "\u001b[1;32m<ipython-input-41-15561d56d58d>\u001b[0m in \u001b[0;36m<module>\u001b[1;34m\u001b[0m\n\u001b[0;32m      2\u001b[0m \u001b[1;32mfor\u001b[0m \u001b[0mimg\u001b[0m \u001b[1;32min\u001b[0m \u001b[0maugmented_images\u001b[0m\u001b[1;33m:\u001b[0m\u001b[1;33m\u001b[0m\u001b[1;33m\u001b[0m\u001b[0m\n\u001b[0;32m      3\u001b[0m     \u001b[0mcv2\u001b[0m\u001b[1;33m.\u001b[0m\u001b[0mimshow\u001b[0m\u001b[1;33m(\u001b[0m\u001b[1;34m\"Image\"\u001b[0m\u001b[1;33m,\u001b[0m\u001b[0mimg\u001b[0m\u001b[1;33m)\u001b[0m\u001b[1;33m\u001b[0m\u001b[1;33m\u001b[0m\u001b[0m\n\u001b[1;32m----> 4\u001b[1;33m     \u001b[0mcv2\u001b[0m\u001b[1;33m.\u001b[0m\u001b[0mwaitKey\u001b[0m\u001b[1;33m(\u001b[0m\u001b[1;36m0\u001b[0m\u001b[1;33m)\u001b[0m\u001b[1;33m\u001b[0m\u001b[1;33m\u001b[0m\u001b[0m\n\u001b[0m",
      "\u001b[1;31mKeyboardInterrupt\u001b[0m: "
     ]
    }
   ],
   "source": [
    "#3. Show Images\n",
    "for img in augmented_images:\n",
    "    cv2.imshow(\"Image\",img)\n",
    "    cv2.waitKey(0)"
   ]
  },
  {
   "cell_type": "code",
   "execution_count": null,
   "metadata": {},
   "outputs": [],
   "source": []
  }
 ],
 "metadata": {
  "kernelspec": {
   "display_name": "Python 3",
   "language": "python",
   "name": "python3"
  },
  "language_info": {
   "codemirror_mode": {
    "name": "ipython",
    "version": 3
   },
   "file_extension": ".py",
   "mimetype": "text/x-python",
   "name": "python",
   "nbconvert_exporter": "python",
   "pygments_lexer": "ipython3",
   "version": "3.7.1"
  }
 },
 "nbformat": 4,
 "nbformat_minor": 2
}
