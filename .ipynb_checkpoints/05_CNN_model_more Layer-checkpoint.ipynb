{
 "cells": [
  {
   "cell_type": "code",
   "execution_count": 19,
   "metadata": {},
   "outputs": [
    {
     "name": "stderr",
     "output_type": "stream",
     "text": [
      "Setting up a new session...\n"
     ]
    },
    {
     "data": {
      "text/plain": [
       "''"
      ]
     },
     "execution_count": 19,
     "metadata": {},
     "output_type": "execute_result"
    }
   ],
   "source": [
    "import torch\n",
    "import torch.nn as nn\n",
    "from torch.utils.data import Dataset,DataLoader\n",
    "import torchvision\n",
    "from torchvision import datasets, transforms\n",
    "import matplotlib.pyplot as plt\n",
    "import numpy as np\n",
    "import visdom\n",
    "\n",
    "vis = visdom.Visdom()\n",
    "vis.close(env=\"main\")"
   ]
  },
  {
   "cell_type": "code",
   "execution_count": 37,
   "metadata": {},
   "outputs": [],
   "source": [
    "## hyperparameter\n",
    "\n",
    "device = 'cuda' if torch.cuda.is_available() else 'cpu'\n",
    "\n",
    "\n",
    "batch_size =10\n",
    "learning_rate = 1e-3\n",
    "num_epochs =25\n"
   ]
  },
  {
   "cell_type": "code",
   "execution_count": 44,
   "metadata": {},
   "outputs": [],
   "source": [
    "## Transform\n",
    "\n",
    "transform = transforms.Compose([\n",
    "    transforms.ToTensor(),\n",
    "    transforms.Resize((224,224)),\n",
    "    transforms.Normalize((0.5,0.5,0.5),(0.5,0.5,0.5))\n",
    "])\n",
    "train_data = datasets.ImageFolder('.\\\\archive\\\\Training_Crop_Aug\\\\',  transform = transform)\n",
    "train_dataloader = torch.utils.data.DataLoader(train_data,batch_size = batch_size,shuffle = True)\n",
    "\n",
    "test_data = datasets.ImageFolder('.\\\\archive\\\\Testing_Crop\\\\',  transform = transform)\n",
    "test_dataloader = torch.utils.data.DataLoader(test_data,batch_size = batch_size,shuffle = True)\n",
    "\n",
    "for num, value in enumerate(test_data):\n",
    "    data, label =value\n",
    "    #print(num,label)\n",
    "    #print(data.shape)\n"
   ]
  },
  {
   "cell_type": "code",
   "execution_count": 45,
   "metadata": {},
   "outputs": [],
   "source": [
    "## CNN\n",
    "\n",
    "class CNN(nn.Module):\n",
    "    def __init__(self):\n",
    "        super(CNN,self).__init__()\n",
    "        self.layer1 = nn.Sequential(\n",
    "            #224-5 = 219/1+1 =220\n",
    "            nn.Conv2d(3,8,5),\n",
    "            nn.ReLU(),\n",
    "            nn.MaxPool2d(2)\n",
    "        )\n",
    "        self.layer2 = nn.Sequential(\n",
    "            # 110-5 = 105/1 +1 = 106\n",
    "            nn.Conv2d(8,32,5),\n",
    "            nn.ReLU(),\n",
    "            nn.MaxPool2d(2)\n",
    "        )\n",
    "        self.layer3 = nn.Sequential(\n",
    "            #53-4 = 49/1+1 =50\n",
    "            nn.Conv2d(32,64,4),\n",
    "            nn.ReLU(),\n",
    "        )\n",
    "        self.fc = nn.Linear(64*50*50,4, bias = True)\n",
    "        torch.nn.init.xavier_uniform_(self.fc.weight)\n",
    "        '''\n",
    "        self.dropout = nn.Dropout(0.3)\n",
    "        self.conv1 = nn.Conv2d(3,8,5,stride=1)\n",
    "        self.conv2 = nn.Conv2d(8,32,5,stride = 1)\n",
    "        self.conv3 = nn.Conv2d(32,128,3,stride = 1,padding = 1)\n",
    "        self.pool = nn.MaxPool2d(2)\n",
    "        self.flat = nn.Flatten()\n",
    "        self.fc1 = nn.Linear(128*15*15,1024)\n",
    "        self.fc2 = nn.Linear(1024,128)\n",
    "        self.fc3 = nn.Linear(128,4)\n",
    "        '''\n",
    "    def forward(self,x):\n",
    "        out = self.layer1(x)\n",
    "        #print(out.shape)\n",
    "        out = self.layer2(out)\n",
    "        #print(out.shape)\n",
    "        out = self.layer3(out)\n",
    "        out = out.view(out.size(0),-1)\n",
    "        #print(out.shape)\n",
    "        out = self.fc(out)\n",
    "        return out"
   ]
  },
  {
   "cell_type": "code",
   "execution_count": 46,
   "metadata": {},
   "outputs": [
    {
     "data": {
      "text/plain": [
       "CNN(\n",
       "  (layer1): Sequential(\n",
       "    (0): Conv2d(3, 8, kernel_size=(5, 5), stride=(1, 1))\n",
       "    (1): ReLU()\n",
       "    (2): MaxPool2d(kernel_size=2, stride=2, padding=0, dilation=1, ceil_mode=False)\n",
       "  )\n",
       "  (layer2): Sequential(\n",
       "    (0): Conv2d(8, 32, kernel_size=(5, 5), stride=(1, 1))\n",
       "    (1): ReLU()\n",
       "    (2): MaxPool2d(kernel_size=2, stride=2, padding=0, dilation=1, ceil_mode=False)\n",
       "  )\n",
       "  (layer3): Sequential(\n",
       "    (0): Conv2d(32, 64, kernel_size=(4, 4), stride=(1, 1))\n",
       "    (1): ReLU()\n",
       "  )\n",
       "  (fc): Linear(in_features=160000, out_features=4, bias=True)\n",
       ")"
      ]
     },
     "execution_count": 46,
     "metadata": {},
     "output_type": "execute_result"
    }
   ],
   "source": [
    "model = CNN().to(device)\n",
    "A = (torch.Tensor(10,3,224,224)).to(device)\n",
    "test_out = model(A)\n",
    "model"
   ]
  },
  {
   "cell_type": "code",
   "execution_count": 47,
   "metadata": {},
   "outputs": [],
   "source": [
    "criterion = nn.CrossEntropyLoss().to(device)\n",
    "\n",
    "#Use Adam optimizer(We tried a lot of optimizers but results are similar)\n",
    "optimizer = torch.optim.Adam(model.parameters(), lr = learning_rate)"
   ]
  },
  {
   "cell_type": "code",
   "execution_count": 48,
   "metadata": {},
   "outputs": [],
   "source": [
    "\n",
    "\n",
    "def loss_tracker(loss_plot, loss_value, num):\n",
    "    '''num, loss_value, are Tensor'''\n",
    "    vis.line(X=num,\n",
    "             Y=loss_value,\n",
    "             win = loss_plot,\n",
    "             update='append'\n",
    "             )"
   ]
  },
  {
   "cell_type": "code",
   "execution_count": 49,
   "metadata": {},
   "outputs": [
    {
     "name": "stdout",
     "output_type": "stream",
     "text": [
      "[Epoch:1] cost = 1.124206781387329\n",
      "[Epoch:2] cost = 0.7853274941444397\n",
      "[Epoch:3] cost = 0.5667927265167236\n",
      "[Epoch:4] cost = 0.33451536297798157\n",
      "[Epoch:5] cost = 0.1752694696187973\n",
      "[Epoch:6] cost = 0.08296943455934525\n",
      "[Epoch:7] cost = 0.03755001351237297\n",
      "[Epoch:8] cost = 0.06660652905702591\n",
      "[Epoch:9] cost = 0.06226128712296486\n",
      "[Epoch:10] cost = 0.043697863817214966\n",
      "[Epoch:11] cost = 0.021063877269625664\n",
      "[Epoch:12] cost = 0.030241254717111588\n",
      "[Epoch:13] cost = 0.04670887067914009\n",
      "[Epoch:14] cost = 0.02251271903514862\n",
      "[Epoch:15] cost = 0.0222679041326046\n",
      "[Epoch:16] cost = 0.005906381644308567\n",
      "[Epoch:17] cost = 0.020764604210853577\n",
      "[Epoch:18] cost = 0.07710005342960358\n",
      "[Epoch:19] cost = 0.014675376936793327\n",
      "[Epoch:20] cost = 0.012553281150758266\n",
      "[Epoch:21] cost = 0.026056379079818726\n",
      "[Epoch:22] cost = 0.04809309542179108\n",
      "[Epoch:23] cost = 0.007577317301183939\n",
      "[Epoch:24] cost = 0.0015425622696056962\n",
      "[Epoch:25] cost = 0.00024825622676871717\n"
     ]
    }
   ],
   "source": [
    "\n",
    "total_batch = len(train_dataloader)\n",
    "\n",
    "for epoch in range(num_epochs):\n",
    "    avg_cost = 0\n",
    "    for images, labels in train_dataloader:\n",
    "        #Push tensors to GPU\n",
    "        images = images.to(device)\n",
    "        labels = labels.to(device)\n",
    "        \n",
    "        optimizer.zero_grad()\n",
    "        hypothesis = model(images)\n",
    "\n",
    "        cost = criterion(hypothesis, labels)\n",
    "        cost.backward()      \n",
    "        optimizer.step()\n",
    "        \n",
    "        avg_cost += cost / total_batch\n",
    "    \n",
    "    print('[Epoch:{}] cost = {}'.format(epoch+1, avg_cost))\n",
    "    #loss_tracker(loss_plt, torch.Tensor([avg_cost]), torch.Tensor([epoch]))"
   ]
  },
  {
   "cell_type": "code",
   "execution_count": 52,
   "metadata": {},
   "outputs": [
    {
     "name": "stdout",
     "output_type": "stream",
     "text": [
      "Accuracy of the model on the test images: 74.8730964467005 %\n"
     ]
    }
   ],
   "source": [
    "# Test the model\n",
    "model.eval()\n",
    "with torch.no_grad():\n",
    "    correct = 0\n",
    "    total = 0\n",
    "    for images, labels in test_dataloader:\n",
    "        images = images.to(device)\n",
    "        labels = labels.to(device)\n",
    "        outputs = model(images)\n",
    "        _, predicted = torch.max(outputs.data, 1)\n",
    "        total += labels.size(0)\n",
    "        correct += (predicted == labels).sum().item()\n",
    "\n",
    "    print('Accuracy of the model on the test images: {} %'.format(100 * correct / total))"
   ]
  },
  {
   "cell_type": "code",
   "execution_count": null,
   "metadata": {},
   "outputs": [],
   "source": [
    "start = time.time()           #시작 time 재기!\n",
    "history = []\n",
    "best_acc = 0.0                #Best Accuracy Value\n",
    "\n",
    "  for epoch in range(epochs):\n",
    "    epoch_start = time.time()\n",
    "    print(\"Epoch: {}/{}\".format(epoch+1, epochs))\n",
    "\n",
    "    #Model to Training Mode!\n",
    "    model.train()\n",
    "\n",
    "    #Initialize Loss and Accuracy\n",
    "    train_loss = 0.0\n",
    "    train_acc = 0.0 \n",
    "\n",
    "    for i, (inputs, labels) in enumerate(train_data_loader):\n",
    "          inputs = inputs.to(device)\n",
    "          labels = labels.to(device)\n",
    "\n",
    "          optimizer.zero_grad()\n",
    "          #Forward Pass\n",
    "          outputs = model(inputs)\n",
    "\n",
    "          #Loss Computation\n",
    "          loss = loss_criterion(outputs, labels)\n",
    "\n",
    "          #Back Propagation\n",
    "          loss.backward()\n",
    "\n",
    "          #Update the parameters\n",
    "          optimizer.step()\n",
    "\n",
    "        train_loss += loss.item() * inputs.size(0)\n",
    "\n",
    "      #Computing the accuracy(다소 헷갈리는 파트, 다시 확인!!!)\n",
    "      ret, predictions = torch.max(outputs.data, 1)\n",
    "      correct_counts = predictions.eq(labels.data.view_as(predictions))\n",
    "\n",
    "      acc = torch.mean(correct_counts.type(torch.FloatTensor))\n",
    "\n",
    "          train_acc += acc.item() * inputs.size(0)\n",
    "\n",
    "            if i % 50 == 0 and i != 0:\n",
    "            print(\"Batch Number: {:03d}, Training: Loss: {:.4f}, Accuracy: {:.4f}\".format(i, loss.item(), acc.item()))\n",
    "\n",
    "    avg_train_loss = train_loss / train_data_size\n",
    "    avg_train_acc = train_acc / train_data_size\n",
    "    history.append([avg_train_loss, avg_train_acc])\n",
    "\n",
    "    epoch_end = time.time()\n",
    "\n",
    "    print(\"Epoch : {:03d}, Training: Loss: {:.4f}, Accuracy: {:.4f}%, Time: {:.4f}s\".format(epoch, avg_train_loss, avg_train_acc*100, epoch_end-epoch_start))\n"
   ]
  },
  {
   "cell_type": "code",
   "execution_count": 209,
   "metadata": {},
   "outputs": [],
   "source": [
    "###### need to check single img ######\n",
    "\"\"\"\n",
    "import cv2\n",
    "import matplotlib.image as mpimg\n",
    "im = cv2.imread('C:\\\\Users\\\\jk121\\\\Desktop\\\\temp\\\\archive\\\\Training\\\\p(1).jpg')\n",
    "\n",
    "\n",
    "\n",
    "def test_one_image(I, model):\n",
    "    '''\n",
    "    I - 28x28 uint8 numpy array\n",
    "    '''\n",
    "\n",
    "    # test phase\n",
    "    model.eval()\n",
    "\n",
    "    # convert image to torch tensor and add batch dim\n",
    "    batch = torch.tensor(I / 255).unsqueeze(0)\n",
    "\n",
    "    # We don't need gradients for test, so wrap in \n",
    "    # no_grad to save memory\n",
    "    with torch.no_grad():\n",
    "        batch = batch.to(device)\n",
    "\n",
    "        # forward propagation\n",
    "        output = model( batch )\n",
    "\n",
    "        # get prediction\n",
    "        output = torch.argmax(output, 1)\n",
    "\n",
    "    return output\n",
    "\"\"\""
   ]
  },
  {
   "cell_type": "code",
   "execution_count": null,
   "metadata": {},
   "outputs": [],
   "source": []
  }
 ],
 "metadata": {
  "kernelspec": {
   "display_name": "Python 3",
   "language": "python",
   "name": "python3"
  },
  "language_info": {
   "codemirror_mode": {
    "name": "ipython",
    "version": 3
   },
   "file_extension": ".py",
   "mimetype": "text/x-python",
   "name": "python",
   "nbconvert_exporter": "python",
   "pygments_lexer": "ipython3",
   "version": "3.7.1"
  }
 },
 "nbformat": 4,
 "nbformat_minor": 2
}
